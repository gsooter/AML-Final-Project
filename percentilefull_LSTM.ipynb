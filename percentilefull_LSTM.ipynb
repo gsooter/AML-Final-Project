{
 "nbformat": 4,
 "nbformat_minor": 5,
 "metadata": {
  "kernelspec": {
   "display_name": "Python 3",
   "language": "python",
   "name": "python3"
  },
  "language_info": {
   "codemirror_mode": {
    "name": "ipython",
    "version": 3
   },
   "file_extension": ".py",
   "mimetype": "text/x-python",
   "name": "python",
   "nbconvert_exporter": "python",
   "pygments_lexer": "ipython3",
   "version": "3.8.8"
  },
  "colab": {
   "name": "percentilefull3.ipynb",
   "provenance": [],
   "collapsed_sections": []
  }
 },
 "cells": [
  {
   "cell_type": "code",
   "metadata": {
    "id": "f6004274",
    "colab": {
     "base_uri": "https://localhost:8080/"
    },
    "outputId": "15da368c-45e7-4e57-b9b3-698e559ddec7"
   },
   "source": [
    "import math\n",
    "import matplotlib.pyplot as plt\n",
    "import keras\n",
    "import pandas as pd\n",
    "import numpy as np\n",
    "from keras.models import Sequential\n",
    "from keras.layers import Dense\n",
    "from keras.layers import LSTM\n",
    "from keras.layers import Dropout\n",
    "from keras.callbacks import History \n",
    "from keras.layers import *\n",
    "from sklearn.preprocessing import MinMaxScaler\n",
    "from sklearn.metrics import mean_squared_error\n",
    "from sklearn.metrics import mean_absolute_error\n",
    "from sklearn.model_selection import train_test_split\n",
    "from keras.callbacks import EarlyStopping\n",
    "import pandas_datareader.data as web\n",
    "from sklearn.metrics import mean_squared_error\n",
    "from statsmodels.formula.api import ols"
   ],
   "id": "f6004274",
   "execution_count": 1,
   "outputs": [
    {
     "output_type": "stream",
     "name": "stderr",
     "text": [
      "/usr/local/lib/python3.7/dist-packages/statsmodels/tools/_testing.py:19: FutureWarning: pandas.util.testing is deprecated. Use the functions in the public API at pandas.testing instead.\n",
      "  import pandas.util.testing as tm\n"
     ]
    }
   ]
  },
  {
   "cell_type": "code",
   "metadata": {
    "colab": {
     "resources": {
      "http://localhost:8080/nbextensions/google.colab/files.js": {
       "data": "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",
       "ok": true,
       "headers": [
        [
         "content-type",
         "application/javascript"
        ]
       ],
       "status": 200,
       "status_text": ""
      }
     },
     "base_uri": "https://localhost:8080/",
     "height": 73
    },
    "id": "Xav24YsnBw_j",
    "outputId": "fd39e547-1049-4efe-d6d0-5c30208d9b10"
   },
   "source": [
    "from google.colab import files\n",
    "uploaded = files.upload()"
   ],
   "id": "Xav24YsnBw_j",
   "execution_count": 2,
   "outputs": [
    {
     "output_type": "display_data",
     "data": {
      "text/html": [
       "\n",
       "     <input type=\"file\" id=\"files-58886dd1-c394-487d-b2d6-0feb3cfaf495\" name=\"files[]\" multiple disabled\n",
       "        style=\"border:none\" />\n",
       "     <output id=\"result-58886dd1-c394-487d-b2d6-0feb3cfaf495\">\n",
       "      Upload widget is only available when the cell has been executed in the\n",
       "      current browser session. Please rerun this cell to enable.\n",
       "      </output>\n",
       "      <script src=\"/nbextensions/google.colab/files.js\"></script> "
      ],
      "text/plain": [
       "<IPython.core.display.HTML object>"
      ]
     },
     "metadata": {}
    },
    {
     "output_type": "stream",
     "name": "stdout",
     "text": [
      "Saving dataframe2.csv to dataframe2.csv\n"
     ]
    }
   ]
  },
  {
   "cell_type": "markdown",
   "source": [
    "### Reading in the data"
   ],
   "metadata": {
    "collapsed": false
   }
  },
  {
   "cell_type": "code",
   "metadata": {
    "id": "4c7835f8"
   },
   "source": [
    "df = pd.read_csv('dataframe2.csv')"
   ],
   "id": "4c7835f8",
   "execution_count": 39,
   "outputs": []
  },
  {
   "cell_type": "code",
   "metadata": {
    "colab": {
     "base_uri": "https://localhost:8080/"
    },
    "id": "bf1dd97b",
    "outputId": "9169dff3-2a1b-48f7-f7c4-ffc1c9b96c6a"
   },
   "source": [
    "df.columns"
   ],
   "id": "bf1dd97b",
   "execution_count": 40,
   "outputs": [
    {
     "output_type": "execute_result",
     "data": {
      "text/plain": [
       "Index(['date', 'LOW_x', 'HIGH_x', 'PRICE_x', 'CLOSINGBID_x', 'CLOSEINGASK_x',\n",
       "       'VOL_x', 'LOW_y', 'HIGH_y', 'PRICE_y', 'CLOSINGBID_y', 'CLOSEINGASK_y',\n",
       "       'VOL_y', 'dailyreturns', 'totalcap', 'chngcap', 'divfac', 'spread',\n",
       "       'shrout', 'SDT_RET', 'Mkt-RF', 'SMB', 'HML', 'RMW', 'CMA', 'RF',\n",
       "       'SPYRET', 'TMW_SPYRET', 'UP_DWN', 'X5', 'X10', 'X15', 'X20', 'X25',\n",
       "       'X30', 'X35', 'X40', 'X45', 'X50', 'X55', 'X60', 'X65', 'X70', 'X75',\n",
       "       'X80', 'X85', 'X90', 'X95', 'SINTMWSPYRET'],\n",
       "      dtype='object')"
      ]
     },
     "metadata": {},
     "execution_count": 40
    }
   ]
  },
  {
   "cell_type": "markdown",
   "source": [
    "We only look at the dates from 2011 to end of 2021"
   ],
   "metadata": {
    "collapsed": false
   }
  },
  {
   "cell_type": "code",
   "metadata": {
    "id": "2611fe88"
   },
   "source": [
    "df1 = df[df['date']>= '2010-12-31']"
   ],
   "id": "2611fe88",
   "execution_count": 41,
   "outputs": []
  },
  {
   "cell_type": "code",
   "metadata": {
    "id": "6bdf39e6"
   },
   "source": [
    "df1 = df1.reset_index(drop=True)"
   ],
   "id": "6bdf39e6",
   "execution_count": 42,
   "outputs": []
  },
  {
   "cell_type": "markdown",
   "source": [
    "Only pulling the variabels that we want"
   ],
   "metadata": {
    "collapsed": false
   }
  },
  {
   "cell_type": "code",
   "source": [
    "df1 = df1.drop(columns= ['LOW_y','HIGH_y','PRICE_y','CLOSINGBID_y','VOL_y','SPYRET','TMW_SPYRET','UP_DWN','Mkt-RF','SINTMWSPYRET'])"
   ],
   "metadata": {
    "id": "MpIRB8xDoMTg"
   },
   "id": "MpIRB8xDoMTg",
   "execution_count": 43,
   "outputs": []
  },
  {
   "cell_type": "code",
   "metadata": {
    "id": "229874a6"
   },
   "source": [
    "train_size = round(0.7*len(df1))"
   ],
   "id": "229874a6",
   "execution_count": 44,
   "outputs": []
  },
  {
   "cell_type": "code",
   "metadata": {
    "id": "80ffd809"
   },
   "source": [
    "training_set = df1.iloc[:train_size, 1:].values\n",
    "test_set =df1.iloc[train_size:, 1:].values"
   ],
   "id": "80ffd809",
   "execution_count": 45,
   "outputs": []
  },
  {
   "cell_type": "markdown",
   "source": [
    "Scaling the data to be between 0 and 1"
   ],
   "metadata": {
    "collapsed": false
   }
  },
  {
   "cell_type": "code",
   "metadata": {
    "id": "00c727ec"
   },
   "source": [
    "sc = MinMaxScaler(feature_range = (0, 1))\n",
    "x_training_set_scaled = sc.fit_transform(training_set[:,[0,1,3,4,5,6,7,8,9,10,11,12,13,14,15,16,17,18,19,20,21,22,23,24,25,26,27,28,29,30,31,32,33,34,35,36,37]])\n",
    "y_training_set_scaled = sc.fit_transform(training_set[:,2:3])"
   ],
   "id": "00c727ec",
   "execution_count": 46,
   "outputs": []
  },
  {
   "cell_type": "markdown",
   "source": [
    "This creates a function that will loop through 30 rolling days to predict the thirty first day this will be our prediction function"
   ],
   "metadata": {
    "collapsed": false
   }
  },
  {
   "cell_type": "code",
   "metadata": {
    "id": "5e27d3b3"
   },
   "source": [
    "X_train = []\n",
    "y_train = []\n",
    "for i in range(30, train_size):\n",
    "    X_train.append(x_training_set_scaled[i-30:i,:])\n",
    "    y_train.append(y_training_set_scaled[i,:])\n",
    "X_train, y_train = np.array(X_train), np.array(y_train)\n",
    "X_train = np.reshape(X_train, (X_train.shape[0], X_train.shape[1], 37))"
   ],
   "id": "5e27d3b3",
   "execution_count": 47,
   "outputs": []
  },
  {
   "cell_type": "markdown",
   "source": [
    "this does the same as above but for the testing data"
   ],
   "metadata": {
    "collapsed": false
   }
  },
  {
   "cell_type": "code",
   "metadata": {
    "id": "4030768f"
   },
   "source": [
    "x_test_set_scaled = sc.fit_transform(test_set[:,[0,1,3,4,5,6,7,8,9,10,11,12,13,14,15,16,17,18,19,20,21,22,23,24,25,26,27,28,29,30,31,32,33,34,35,36,37]])\n",
    "y_test_set_scaled = sc.fit_transform(test_set[:,2:3])\n",
    "X_test = []\n",
    "y_test = []\n",
    "for i in range(30, (len(df1) - train_size)):\n",
    "    X_test.append(x_test_set_scaled[i-30:i,:])\n",
    "    y_test.append(y_test_set_scaled[i,:])\n",
    "X_test, y_test = np.array(X_test), np.array(y_test)\n",
    "X_test = np.reshape(X_test, (X_test.shape[0], X_test.shape[1], 37))"
   ],
   "id": "4030768f",
   "execution_count": 48,
   "outputs": []
  },
  {
   "cell_type": "code",
   "source": [
    "epochs = 50"
   ],
   "metadata": {
    "id": "COp_R4PDU8wh"
   },
   "id": "COp_R4PDU8wh",
   "execution_count": 49,
   "outputs": []
  },
  {
   "cell_type": "markdown",
   "source": [
    "Creating and training 4 LSTM layers."
   ],
   "metadata": {
    "collapsed": false
   }
  },
  {
   "cell_type": "code",
   "metadata": {
    "id": "5a273657",
    "colab": {
     "base_uri": "https://localhost:8080/"
    },
    "outputId": "6a6787f8-d978-452b-c74c-d8150fb15ca6"
   },
   "source": [
    "#def lstm(x_train,y_train,x_test,y_test,epochs):\n",
    "history = History()\n",
    "model = Sequential()\n",
    "#Adding the first LSTM layer and some Dropout regularisation\n",
    "model.add(LSTM(units = 50, return_sequences = True, input_shape = (X_train.shape[1], 37)))\n",
    "model.add(Dropout(0.2))\n",
    "# Adding a second LSTM layer and some Dropout regularisation\n",
    "model.add(LSTM(units = 50, return_sequences = True))\n",
    "model.add(Dropout(0.2))\n",
    "# Adding a third LSTM layer and some Dropout regularisation\n",
    "model.add(LSTM(units = 50, return_sequences = True))\n",
    "model.add(Dropout(0.2))\n",
    "# Adding a fourth LSTM layer and some Dropout regularisation\n",
    "model.add(LSTM(units = 50))\n",
    "model.add(Dropout(0.2))\n",
    "# Adding the output layer\n",
    "model.add(Dense(units = 1))\n",
    "\n",
    "# Compiling the RNN\n",
    "model.compile(optimizer = 'adam', loss = 'mean_squared_error')\n",
    "\n",
    "# Fitting the RNN to the Training set\n",
    "model.fit(X_train, y_train, epochs = epochs, batch_size = 20,callbacks=[history])\n",
    "\n",
    "predicted_stock_price = model.predict(X_test)\n",
    "\n",
    "mse = mean_squared_error(y_test,predicted_stock_price)\n",
    "loss = history.history['loss']\n",
    "\n",
    "#return mse\n",
    "print(loss)"
   ],
   "id": "5a273657",
   "execution_count": 50,
   "outputs": [
    {
     "output_type": "stream",
     "name": "stdout",
     "text": [
      "Epoch 1/50\n",
      "87/87 [==============================] - 13s 62ms/step - loss: 0.0186\n",
      "Epoch 2/50\n",
      "87/87 [==============================] - 5s 61ms/step - loss: 0.0042\n",
      "Epoch 3/50\n",
      "87/87 [==============================] - 5s 61ms/step - loss: 0.0038\n",
      "Epoch 4/50\n",
      "87/87 [==============================] - 5s 59ms/step - loss: 0.0034\n",
      "Epoch 5/50\n",
      "87/87 [==============================] - 5s 60ms/step - loss: 0.0026\n",
      "Epoch 6/50\n",
      "87/87 [==============================] - 5s 60ms/step - loss: 0.0029\n",
      "Epoch 7/50\n",
      "87/87 [==============================] - 5s 61ms/step - loss: 0.0029\n",
      "Epoch 8/50\n",
      "87/87 [==============================] - 5s 62ms/step - loss: 0.0026\n",
      "Epoch 9/50\n",
      "87/87 [==============================] - 5s 61ms/step - loss: 0.0022\n",
      "Epoch 10/50\n",
      "87/87 [==============================] - 5s 61ms/step - loss: 0.0020\n",
      "Epoch 11/50\n",
      "87/87 [==============================] - 5s 61ms/step - loss: 0.0023\n",
      "Epoch 12/50\n",
      "87/87 [==============================] - 5s 62ms/step - loss: 0.0020\n",
      "Epoch 13/50\n",
      "87/87 [==============================] - 5s 60ms/step - loss: 0.0022\n",
      "Epoch 14/50\n",
      "87/87 [==============================] - 5s 61ms/step - loss: 0.0019\n",
      "Epoch 15/50\n",
      "87/87 [==============================] - 5s 60ms/step - loss: 0.0018\n",
      "Epoch 16/50\n",
      "87/87 [==============================] - 5s 62ms/step - loss: 0.0020\n",
      "Epoch 17/50\n",
      "87/87 [==============================] - 5s 61ms/step - loss: 0.0019\n",
      "Epoch 18/50\n",
      "87/87 [==============================] - 5s 60ms/step - loss: 0.0017\n",
      "Epoch 19/50\n",
      "87/87 [==============================] - 5s 60ms/step - loss: 0.0017\n",
      "Epoch 20/50\n",
      "87/87 [==============================] - 5s 61ms/step - loss: 0.0017\n",
      "Epoch 21/50\n",
      "87/87 [==============================] - 5s 60ms/step - loss: 0.0016\n",
      "Epoch 22/50\n",
      "87/87 [==============================] - 5s 61ms/step - loss: 0.0015\n",
      "Epoch 23/50\n",
      "87/87 [==============================] - 5s 61ms/step - loss: 0.0016\n",
      "Epoch 24/50\n",
      "87/87 [==============================] - 5s 61ms/step - loss: 0.0016\n",
      "Epoch 25/50\n",
      "87/87 [==============================] - 5s 61ms/step - loss: 0.0015\n",
      "Epoch 26/50\n",
      "87/87 [==============================] - 5s 60ms/step - loss: 0.0015\n",
      "Epoch 27/50\n",
      "87/87 [==============================] - 5s 61ms/step - loss: 0.0013\n",
      "Epoch 28/50\n",
      "87/87 [==============================] - 5s 60ms/step - loss: 0.0015\n",
      "Epoch 29/50\n",
      "87/87 [==============================] - 5s 60ms/step - loss: 0.0015\n",
      "Epoch 30/50\n",
      "87/87 [==============================] - 5s 60ms/step - loss: 0.0013\n",
      "Epoch 31/50\n",
      "87/87 [==============================] - 5s 60ms/step - loss: 0.0014\n",
      "Epoch 32/50\n",
      "87/87 [==============================] - 5s 61ms/step - loss: 0.0014\n",
      "Epoch 33/50\n",
      "87/87 [==============================] - 5s 62ms/step - loss: 0.0013\n",
      "Epoch 34/50\n",
      "87/87 [==============================] - 5s 62ms/step - loss: 0.0012\n",
      "Epoch 35/50\n",
      "87/87 [==============================] - 5s 61ms/step - loss: 0.0013\n",
      "Epoch 36/50\n",
      "87/87 [==============================] - 5s 61ms/step - loss: 0.0012\n",
      "Epoch 37/50\n",
      "87/87 [==============================] - 5s 60ms/step - loss: 0.0011\n",
      "Epoch 38/50\n",
      "87/87 [==============================] - 5s 61ms/step - loss: 0.0012\n",
      "Epoch 39/50\n",
      "87/87 [==============================] - 5s 60ms/step - loss: 0.0012\n",
      "Epoch 40/50\n",
      "87/87 [==============================] - 5s 61ms/step - loss: 0.0010\n",
      "Epoch 41/50\n",
      "87/87 [==============================] - 5s 60ms/step - loss: 9.9514e-04\n",
      "Epoch 42/50\n",
      "87/87 [==============================] - 5s 60ms/step - loss: 0.0011\n",
      "Epoch 43/50\n",
      "87/87 [==============================] - 5s 60ms/step - loss: 9.9944e-04\n",
      "Epoch 44/50\n",
      "87/87 [==============================] - 5s 60ms/step - loss: 0.0011\n",
      "Epoch 45/50\n",
      "87/87 [==============================] - 5s 61ms/step - loss: 0.0012\n",
      "Epoch 46/50\n",
      "87/87 [==============================] - 5s 61ms/step - loss: 9.8577e-04\n",
      "Epoch 47/50\n",
      "87/87 [==============================] - 5s 61ms/step - loss: 9.8386e-04\n",
      "Epoch 48/50\n",
      "87/87 [==============================] - 5s 60ms/step - loss: 0.0011\n",
      "Epoch 49/50\n",
      "87/87 [==============================] - 5s 60ms/step - loss: 0.0010\n",
      "Epoch 50/50\n",
      "87/87 [==============================] - 5s 60ms/step - loss: 8.8255e-04\n",
      "[0.018600013107061386, 0.004193833097815514, 0.0038097500801086426, 0.003403599839657545, 0.0025767821352928877, 0.002945180283859372, 0.002892104908823967, 0.0026464713737368584, 0.002166925696656108, 0.0019922174979001284, 0.002314408076927066, 0.0019785163458436728, 0.0021548366639763117, 0.0019451020052656531, 0.0018481930019333959, 0.0020001577213406563, 0.001881801406852901, 0.0017006532289087772, 0.0017022914253175259, 0.0016759581631049514, 0.0016293032094836235, 0.0014882555697113276, 0.0016246142331510782, 0.001565840095281601, 0.0015386497834697366, 0.0014719245955348015, 0.0013314679963514209, 0.001461708452552557, 0.0015235160244628787, 0.001307587488554418, 0.0013722103321924806, 0.001435337238945067, 0.0012821650598198175, 0.0012274098116904497, 0.0012575772125273943, 0.0012452482478693128, 0.0011318994220346212, 0.001222928985953331, 0.0011703872587531805, 0.0010362411849200726, 0.0009951398242264986, 0.0011364753590896726, 0.0009994436986744404, 0.0010505098616704345, 0.0011642184108495712, 0.0009857678087428212, 0.000983857549726963, 0.001126124057918787, 0.0010129695292562246, 0.0008825458353385329]\n"
     ]
    }
   ]
  },
  {
   "cell_type": "markdown",
   "source": [
    "### As you can see this does not perform any better after 50 epochs than the simpler model from 'Simpledata_LSTM'.\n",
    "\n",
    "### When we ran through 100 epochs we got better loss numbers but we got worst R^2 on the regression below\n",
    "\n",
    "### it also functioned worse as a guide for our portfolio"
   ],
   "metadata": {
    "collapsed": false
   }
  },
  {
   "cell_type": "markdown",
   "source": [
    "Both of these cells convert the functions back to the pre scaled functions"
   ],
   "metadata": {
    "collapsed": false
   }
  },
  {
   "cell_type": "code",
   "metadata": {
    "id": "221f05ff"
   },
   "source": [
    "predicted_stock_price = model.predict(X_test)"
   ],
   "id": "221f05ff",
   "execution_count": 51,
   "outputs": []
  },
  {
   "cell_type": "code",
   "metadata": {
    "id": "0c499868"
   },
   "source": [
    "predicted_stock_price = sc.inverse_transform(predicted_stock_price)"
   ],
   "id": "0c499868",
   "execution_count": 52,
   "outputs": []
  },
  {
   "cell_type": "code",
   "metadata": {
    "id": "40aa931d"
   },
   "source": [
    "y_test = sc.inverse_transform(y_test)"
   ],
   "id": "40aa931d",
   "execution_count": 53,
   "outputs": []
  },
  {
   "cell_type": "markdown",
   "source": [
    "Plotting the outcome of the predictions vs the actuals"
   ],
   "metadata": {
    "collapsed": false
   }
  },
  {
   "cell_type": "code",
   "metadata": {
    "id": "a80decf0",
    "colab": {
     "base_uri": "https://localhost:8080/",
     "height": 295
    },
    "outputId": "2c7e7d24-5a46-4f21-c8de-6938efb7f721"
   },
   "source": [
    "# Visualising the results\n",
    "plt.plot(df1.loc[train_size:len(df1)-31, 'date'],y_test, color = 'red', label = 'Real SPY Stock Price')\n",
    "plt.plot(df1.loc[train_size:len(df1)-31, 'date'],predicted_stock_price, color = 'blue', label = 'Predicted SPY Stock Price')\n",
    "#plt.xticks(np.arange(0,459,50))\n",
    "plt.title('SPY Prediction')\n",
    "plt.xlabel('Time')\n",
    "plt.ylabel('SPY')\n",
    "plt.legend()\n",
    "plt.show()"
   ],
   "id": "a80decf0",
   "execution_count": 54,
   "outputs": [
    {
     "output_type": "display_data",
     "data": {
      "image/png": "[encoded data removed]",
      "text/plain": [
       "<Figure size 432x288 with 1 Axes>"
      ]
     },
     "metadata": {
      "needs_background": "light"
     }
    }
   ]
  },
  {
   "cell_type": "code",
   "metadata": {
    "id": "cb5e8d75"
   },
   "source": [
    "regression = pd.DataFrame(y_test)\n",
    "regression['predict'] = predicted_stock_price"
   ],
   "id": "cb5e8d75",
   "execution_count": 55,
   "outputs": []
  },
  {
   "cell_type": "code",
   "metadata": {
    "id": "627ef70d"
   },
   "source": [
    "regression.columns = ['real','predict']"
   ],
   "id": "627ef70d",
   "execution_count": 56,
   "outputs": []
  },
  {
   "cell_type": "markdown",
   "source": [
    "We run this regression to check and see how the model works in explaining the actual stock pric"
   ],
   "metadata": {
    "collapsed": false
   }
  },
  {
   "cell_type": "code",
   "metadata": {
    "id": "621b6737",
    "colab": {
     "base_uri": "https://localhost:8080/",
     "height": 424
    },
    "outputId": "416bd9ce-ca61-40e1-8471-a1ff04ef44e9"
   },
   "source": [
    "regression"
   ],
   "id": "621b6737",
   "execution_count": 57,
   "outputs": [
    {
     "output_type": "execute_result",
     "data": {
      "text/html": [
       "<div>\n",
       "<style scoped>\n",
       "    .dataframe tbody tr th:only-of-type {\n",
       "        vertical-align: middle;\n",
       "    }\n",
       "\n",
       "    .dataframe tbody tr th {\n",
       "        vertical-align: top;\n",
       "    }\n",
       "\n",
       "    .dataframe thead th {\n",
       "        text-align: right;\n",
       "    }\n",
       "</style>\n",
       "<table border=\"1\" class=\"dataframe\">\n",
       "  <thead>\n",
       "    <tr style=\"text-align: right;\">\n",
       "      <th></th>\n",
       "      <th>real</th>\n",
       "      <th>predict</th>\n",
       "    </tr>\n",
       "  </thead>\n",
       "  <tbody>\n",
       "    <tr>\n",
       "      <th>0</th>\n",
       "      <td>273.03000</td>\n",
       "      <td>267.198547</td>\n",
       "    </tr>\n",
       "    <tr>\n",
       "      <th>1</th>\n",
       "      <td>273.10999</td>\n",
       "      <td>268.300323</td>\n",
       "    </tr>\n",
       "    <tr>\n",
       "      <th>2</th>\n",
       "      <td>271.39999</td>\n",
       "      <td>269.114929</td>\n",
       "    </tr>\n",
       "    <tr>\n",
       "      <th>3</th>\n",
       "      <td>270.04999</td>\n",
       "      <td>269.752716</td>\n",
       "    </tr>\n",
       "    <tr>\n",
       "      <th>4</th>\n",
       "      <td>270.39999</td>\n",
       "      <td>270.276978</td>\n",
       "    </tr>\n",
       "    <tr>\n",
       "      <th>...</th>\n",
       "      <td>...</td>\n",
       "      <td>...</td>\n",
       "    </tr>\n",
       "    <tr>\n",
       "      <th>720</th>\n",
       "      <td>369.00000</td>\n",
       "      <td>353.254730</td>\n",
       "    </tr>\n",
       "    <tr>\n",
       "      <th>721</th>\n",
       "      <td>372.17001</td>\n",
       "      <td>353.135590</td>\n",
       "    </tr>\n",
       "    <tr>\n",
       "      <th>722</th>\n",
       "      <td>371.45999</td>\n",
       "      <td>352.887634</td>\n",
       "    </tr>\n",
       "    <tr>\n",
       "      <th>723</th>\n",
       "      <td>371.98999</td>\n",
       "      <td>352.632965</td>\n",
       "    </tr>\n",
       "    <tr>\n",
       "      <th>724</th>\n",
       "      <td>373.88000</td>\n",
       "      <td>352.699890</td>\n",
       "    </tr>\n",
       "  </tbody>\n",
       "</table>\n",
       "<p>725 rows × 2 columns</p>\n",
       "</div>"
      ],
      "text/plain": [
       "          real     predict\n",
       "0    273.03000  267.198547\n",
       "1    273.10999  268.300323\n",
       "2    271.39999  269.114929\n",
       "3    270.04999  269.752716\n",
       "4    270.39999  270.276978\n",
       "..         ...         ...\n",
       "720  369.00000  353.254730\n",
       "721  372.17001  353.135590\n",
       "722  371.45999  352.887634\n",
       "723  371.98999  352.632965\n",
       "724  373.88000  352.699890\n",
       "\n",
       "[725 rows x 2 columns]"
      ]
     },
     "metadata": {},
     "execution_count": 57
    }
   ]
  },
  {
   "cell_type": "code",
   "metadata": {
    "id": "6b7d8a40"
   },
   "source": [
    "model = ols('predict ~ real',regression).fit()"
   ],
   "id": "6b7d8a40",
   "execution_count": 58,
   "outputs": []
  },
  {
   "cell_type": "code",
   "metadata": {
    "id": "aedb31e2",
    "colab": {
     "base_uri": "https://localhost:8080/",
     "height": 486
    },
    "outputId": "0991cf3a-9bc5-40b1-aa64-2c06157f1db2"
   },
   "source": [
    "model.summary()"
   ],
   "id": "aedb31e2",
   "execution_count": 59,
   "outputs": [
    {
     "output_type": "execute_result",
     "data": {
      "text/html": [
       "<table class=\"simpletable\">\n",
       "<caption>OLS Regression Results</caption>\n",
       "<tr>\n",
       "  <th>Dep. Variable:</th>         <td>predict</td>     <th>  R-squared:         </th> <td>   0.921</td>\n",
       "</tr>\n",
       "<tr>\n",
       "  <th>Model:</th>                   <td>OLS</td>       <th>  Adj. R-squared:    </th> <td>   0.921</td>\n",
       "</tr>\n",
       "<tr>\n",
       "  <th>Method:</th>             <td>Least Squares</td>  <th>  F-statistic:       </th> <td>   8482.</td>\n",
       "</tr>\n",
       "<tr>\n",
       "  <th>Date:</th>             <td>Fri, 10 Dec 2021</td> <th>  Prob (F-statistic):</th>  <td>  0.00</td> \n",
       "</tr>\n",
       "<tr>\n",
       "  <th>Time:</th>                 <td>18:52:36</td>     <th>  Log-Likelihood:    </th> <td> -2398.4</td>\n",
       "</tr>\n",
       "<tr>\n",
       "  <th>No. Observations:</th>      <td>   725</td>      <th>  AIC:               </th> <td>   4801.</td>\n",
       "</tr>\n",
       "<tr>\n",
       "  <th>Df Residuals:</th>          <td>   723</td>      <th>  BIC:               </th> <td>   4810.</td>\n",
       "</tr>\n",
       "<tr>\n",
       "  <th>Df Model:</th>              <td>     1</td>      <th>                     </th>     <td> </td>   \n",
       "</tr>\n",
       "<tr>\n",
       "  <th>Covariance Type:</th>      <td>nonrobust</td>    <th>                     </th>     <td> </td>   \n",
       "</tr>\n",
       "</table>\n",
       "<table class=\"simpletable\">\n",
       "<tr>\n",
       "      <td></td>         <th>coef</th>     <th>std err</th>      <th>t</th>      <th>P>|t|</th>  <th>[0.025</th>    <th>0.975]</th>  \n",
       "</tr>\n",
       "<tr>\n",
       "  <th>Intercept</th> <td>   63.1190</td> <td>    2.529</td> <td>   24.961</td> <td> 0.000</td> <td>   58.155</td> <td>   68.084</td>\n",
       "</tr>\n",
       "<tr>\n",
       "  <th>real</th>      <td>    0.7818</td> <td>    0.008</td> <td>   92.096</td> <td> 0.000</td> <td>    0.765</td> <td>    0.798</td>\n",
       "</tr>\n",
       "</table>\n",
       "<table class=\"simpletable\">\n",
       "<tr>\n",
       "  <th>Omnibus:</th>       <td>220.274</td> <th>  Durbin-Watson:     </th> <td>   0.251</td> \n",
       "</tr>\n",
       "<tr>\n",
       "  <th>Prob(Omnibus):</th> <td> 0.000</td>  <th>  Jarque-Bera (JB):  </th> <td>1268.641</td> \n",
       "</tr>\n",
       "<tr>\n",
       "  <th>Skew:</th>          <td> 1.239</td>  <th>  Prob(JB):          </th> <td>3.30e-276</td>\n",
       "</tr>\n",
       "<tr>\n",
       "  <th>Kurtosis:</th>      <td> 8.988</td>  <th>  Cond. No.          </th> <td>3.06e+03</td> \n",
       "</tr>\n",
       "</table><br/><br/>Warnings:<br/>[1] Standard Errors assume that the covariance matrix of the errors is correctly specified.<br/>[2] The condition number is large, 3.06e+03. This might indicate that there are<br/>strong multicollinearity or other numerical problems."
      ],
      "text/plain": [
       "<class 'statsmodels.iolib.summary.Summary'>\n",
       "\"\"\"\n",
       "                            OLS Regression Results                            \n",
       "==============================================================================\n",
       "Dep. Variable:                predict   R-squared:                       0.921\n",
       "Model:                            OLS   Adj. R-squared:                  0.921\n",
       "Method:                 Least Squares   F-statistic:                     8482.\n",
       "Date:                Fri, 10 Dec 2021   Prob (F-statistic):               0.00\n",
       "Time:                        18:52:36   Log-Likelihood:                -2398.4\n",
       "No. Observations:                 725   AIC:                             4801.\n",
       "Df Residuals:                     723   BIC:                             4810.\n",
       "Df Model:                           1                                         \n",
       "Covariance Type:            nonrobust                                         \n",
       "==============================================================================\n",
       "                 coef    std err          t      P>|t|      [0.025      0.975]\n",
       "------------------------------------------------------------------------------\n",
       "Intercept     63.1190      2.529     24.961      0.000      58.155      68.084\n",
       "real           0.7818      0.008     92.096      0.000       0.765       0.798\n",
       "==============================================================================\n",
       "Omnibus:                      220.274   Durbin-Watson:                   0.251\n",
       "Prob(Omnibus):                  0.000   Jarque-Bera (JB):             1268.641\n",
       "Skew:                           1.239   Prob(JB):                    3.30e-276\n",
       "Kurtosis:                       8.988   Cond. No.                     3.06e+03\n",
       "==============================================================================\n",
       "\n",
       "Warnings:\n",
       "[1] Standard Errors assume that the covariance matrix of the errors is correctly specified.\n",
       "[2] The condition number is large, 3.06e+03. This might indicate that there are\n",
       "strong multicollinearity or other numerical problems.\n",
       "\"\"\""
      ]
     },
     "metadata": {},
     "execution_count": 59
    }
   ]
  },
  {
   "cell_type": "code",
   "metadata": {
    "id": "d2703734"
   },
   "source": [
    ""
   ],
   "id": "d2703734",
   "execution_count": 59,
   "outputs": []
  },
  {
   "cell_type": "code",
   "metadata": {
    "id": "c762a037"
   },
   "source": [
    ""
   ],
   "id": "c762a037",
   "execution_count": 59,
   "outputs": []
  },
  {
   "cell_type": "code",
   "metadata": {
    "id": "fc6ab6d9"
   },
   "source": [
    ""
   ],
   "id": "fc6ab6d9",
   "execution_count": 59,
   "outputs": []
  },
  {
   "cell_type": "code",
   "metadata": {
    "id": "6d9ae36f"
   },
   "source": [
    ""
   ],
   "id": "6d9ae36f",
   "execution_count": 59,
   "outputs": []
  },
  {
   "cell_type": "code",
   "metadata": {
    "id": "31366e98"
   },
   "source": [
    ""
   ],
   "id": "31366e98",
   "execution_count": 59,
   "outputs": []
  },
  {
   "cell_type": "code",
   "metadata": {
    "id": "5009db83"
   },
   "source": [
    ""
   ],
   "id": "5009db83",
   "execution_count": 59,
   "outputs": []
  },
  {
   "cell_type": "code",
   "metadata": {
    "id": "e799652a"
   },
   "source": [
    ""
   ],
   "id": "e799652a",
   "execution_count": 59,
   "outputs": []
  },
  {
   "cell_type": "code",
   "metadata": {
    "id": "845d4629"
   },
   "source": [
    ""
   ],
   "id": "845d4629",
   "execution_count": 59,
   "outputs": []
  },
  {
   "cell_type": "code",
   "metadata": {
    "id": "8025ec59"
   },
   "source": [
    ""
   ],
   "id": "8025ec59",
   "execution_count": 59,
   "outputs": []
  },
  {
   "cell_type": "code",
   "metadata": {
    "id": "46c96313"
   },
   "source": [
    ""
   ],
   "id": "46c96313",
   "execution_count": 59,
   "outputs": []
  },
  {
   "cell_type": "code",
   "metadata": {
    "id": "f9d238fe"
   },
   "source": [
    ""
   ],
   "id": "f9d238fe",
   "execution_count": 59,
   "outputs": []
  },
  {
   "cell_type": "code",
   "metadata": {
    "id": "b1ba24de"
   },
   "source": [
    ""
   ],
   "id": "b1ba24de",
   "execution_count": 59,
   "outputs": []
  },
  {
   "cell_type": "code",
   "metadata": {
    "id": "2f7bb054"
   },
   "source": [
    ""
   ],
   "id": "2f7bb054",
   "execution_count": 59,
   "outputs": []
  },
  {
   "cell_type": "code",
   "metadata": {
    "id": "48280edb"
   },
   "source": [
    ""
   ],
   "id": "48280edb",
   "execution_count": 59,
   "outputs": []
  },
  {
   "cell_type": "code",
   "metadata": {
    "id": "00a1f004"
   },
   "source": [
    ""
   ],
   "id": "00a1f004",
   "execution_count": 59,
   "outputs": []
  }
 ]
}