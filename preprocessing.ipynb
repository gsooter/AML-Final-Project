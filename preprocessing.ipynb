{
 "cells": [
  {
   "cell_type": "code",
   "execution_count": 1,
   "metadata": {
    "collapsed": true
   },
   "outputs": [],
   "source": [
    "import pandas as pd\n",
    "from tqdm import tqdm"
   ]
  },
  {
   "cell_type": "code",
   "execution_count": 2,
   "outputs": [],
   "source": [
    "s = pd.read_csv('All_Stock.csv')\n",
    "s['date'] = pd.to_datetime(s['date'])\n",
    "s['mktcap'] = s['PRC'] * s['SHROUT']"
   ],
   "metadata": {
    "collapsed": false,
    "pycharm": {
     "name": "#%%\n"
    }
   }
  },
  {
   "cell_type": "code",
   "execution_count": 84,
   "outputs": [],
   "source": [
    "ff = pd.read_csv('F-F_Research_Data_5_Factors_2x3_daily.CSV')\n",
    "ff['date'] = pd.to_datetime(ff['Unnamed: 0'])\n",
    "ff = ff.drop(columns= ['Unnamed: 7','Unnamed: 8','Unnamed: 9','Unnamed: 10','Unnamed: 0'])"
   ],
   "metadata": {
    "collapsed": false,
    "pycharm": {
     "name": "#%%\n"
    }
   }
  },
  {
   "cell_type": "code",
   "execution_count": 4,
   "outputs": [],
   "source": [
    "table = pd.crosstab(s['date'], s['PERMNO'], values = s['mktcap'], aggfunc = sum)\n",
    "companies = {}\n",
    "for year in table.index:\n",
    "    companies[year] = table.loc[year, :].sort_values(ascending = False).index[:100]"
   ],
   "metadata": {
    "collapsed": false,
    "pycharm": {
     "name": "#%%\n"
    }
   }
  },
  {
   "cell_type": "code",
   "execution_count": null,
   "outputs": [],
   "source": [
    "years = list(companies.keys())\n",
    "lesscomp = pd.DataFrame()\n",
    "for i in tqdm(years):\n",
    "    x = s[(s['date'] == i) & (s['PERMNO'].isin(list(companies[i])))]\n",
    "    lesscomp = pd.concat([lesscomp, x])\n",
    "s = lesscomp.copy()\n",
    "s.to_csv('filtered_returns.csv', index=False)"
   ],
   "metadata": {
    "collapsed": false,
    "pycharm": {
     "name": "#%%\n",
     "is_executing": true
    }
   }
  },
  {
   "cell_type": "code",
   "execution_count": null,
   "outputs": [],
   "source": [
    "s = pd.read_csv('filtered_returns.csv')"
   ],
   "metadata": {
    "collapsed": false,
    "pycharm": {
     "name": "#%%\n",
     "is_executing": true
    }
   }
  },
  {
   "cell_type": "code",
   "execution_count": 27,
   "outputs": [
    {
     "data": {
      "text/plain": "         PERMNO        date TICKER      BIDLO      ASKHI        PRC  \\\n0         10401  1970-01-02      T   49.12500   49.87500   49.37500   \n1         10604  1970-01-02    ARC   86.00000   90.00000   89.75000   \n2         10786  1970-01-02     BS   26.87500   27.25000   27.12500   \n3         10890  1970-01-02    BGH  157.25000  159.25000  158.75000   \n4         11260  1970-01-02      C   34.25000   35.37500   35.25000   \n...         ...         ...    ...        ...        ...        ...   \n1286811   92602  2020-12-31     PM   81.29000   82.92000   82.79000   \n1286812   92611  2020-12-31      V  216.20000  219.82001  218.73000   \n1286813   92655  2020-12-31    UNH  344.04999  351.09000  350.67999   \n1286814   93002  2020-12-31   AVGO  433.04999  438.50000  437.85001   \n1286815   93436  2020-12-31   TSLA  691.12000  718.71997  705.66998   \n\n                VOL       RET     SHROUT      RETX        mktcap    spread  \\\n0           79500.0  0.015424   549264.0  0.015424  2.711991e+07   0.75000   \n1           27800.0  0.042090    44389.0  0.042090  3.983913e+06   4.00000   \n2           18000.0  0.000000    44022.0  0.000000  1.194097e+06   0.37500   \n3           13600.0  0.008737    17232.0  0.008737  2.735580e+06   2.00000   \n4           31400.0  0.025455    47942.0  0.025455  1.689956e+06   1.12500   \n...             ...       ...        ...       ...           ...       ...   \n1286811   2892403.0  0.016078  1557316.0  0.016078  1.289302e+08   1.63000   \n1286812   5922170.0  0.001694  1695677.0  0.001694  3.708954e+08   3.62001   \n1286813   1969227.0  0.016493   948821.0  0.016493  3.327325e+08   7.04001   \n1286814   1015614.0  0.006945   407000.0  0.006945  1.782050e+08   5.45001   \n1286815  49544141.0  0.015674   947901.0  0.015674  6.689053e+08  27.59997   \n\n         divfac  \n0           0.0  \n1           0.0  \n2           0.0  \n3           0.0  \n4           0.0  \n...         ...  \n1286811     0.0  \n1286812     0.0  \n1286813     0.0  \n1286814     0.0  \n1286815     0.0  \n\n[1286549 rows x 13 columns]",
      "text/html": "<div>\n<style scoped>\n    .dataframe tbody tr th:only-of-type {\n        vertical-align: middle;\n    }\n\n    .dataframe tbody tr th {\n        vertical-align: top;\n    }\n\n    .dataframe thead th {\n        text-align: right;\n    }\n</style>\n<table border=\"1\" class=\"dataframe\">\n  <thead>\n    <tr style=\"text-align: right;\">\n      <th></th>\n      <th>PERMNO</th>\n      <th>date</th>\n      <th>TICKER</th>\n      <th>BIDLO</th>\n      <th>ASKHI</th>\n      <th>PRC</th>\n      <th>VOL</th>\n      <th>RET</th>\n      <th>SHROUT</th>\n      <th>RETX</th>\n      <th>mktcap</th>\n      <th>spread</th>\n      <th>divfac</th>\n    </tr>\n  </thead>\n  <tbody>\n    <tr>\n      <th>0</th>\n      <td>10401</td>\n      <td>1970-01-02</td>\n      <td>T</td>\n      <td>49.12500</td>\n      <td>49.87500</td>\n      <td>49.37500</td>\n      <td>79500.0</td>\n      <td>0.015424</td>\n      <td>549264.0</td>\n      <td>0.015424</td>\n      <td>2.711991e+07</td>\n      <td>0.75000</td>\n      <td>0.0</td>\n    </tr>\n    <tr>\n      <th>1</th>\n      <td>10604</td>\n      <td>1970-01-02</td>\n      <td>ARC</td>\n      <td>86.00000</td>\n      <td>90.00000</td>\n      <td>89.75000</td>\n      <td>27800.0</td>\n      <td>0.042090</td>\n      <td>44389.0</td>\n      <td>0.042090</td>\n      <td>3.983913e+06</td>\n      <td>4.00000</td>\n      <td>0.0</td>\n    </tr>\n    <tr>\n      <th>2</th>\n      <td>10786</td>\n      <td>1970-01-02</td>\n      <td>BS</td>\n      <td>26.87500</td>\n      <td>27.25000</td>\n      <td>27.12500</td>\n      <td>18000.0</td>\n      <td>0.000000</td>\n      <td>44022.0</td>\n      <td>0.000000</td>\n      <td>1.194097e+06</td>\n      <td>0.37500</td>\n      <td>0.0</td>\n    </tr>\n    <tr>\n      <th>3</th>\n      <td>10890</td>\n      <td>1970-01-02</td>\n      <td>BGH</td>\n      <td>157.25000</td>\n      <td>159.25000</td>\n      <td>158.75000</td>\n      <td>13600.0</td>\n      <td>0.008737</td>\n      <td>17232.0</td>\n      <td>0.008737</td>\n      <td>2.735580e+06</td>\n      <td>2.00000</td>\n      <td>0.0</td>\n    </tr>\n    <tr>\n      <th>4</th>\n      <td>11260</td>\n      <td>1970-01-02</td>\n      <td>C</td>\n      <td>34.25000</td>\n      <td>35.37500</td>\n      <td>35.25000</td>\n      <td>31400.0</td>\n      <td>0.025455</td>\n      <td>47942.0</td>\n      <td>0.025455</td>\n      <td>1.689956e+06</td>\n      <td>1.12500</td>\n      <td>0.0</td>\n    </tr>\n    <tr>\n      <th>...</th>\n      <td>...</td>\n      <td>...</td>\n      <td>...</td>\n      <td>...</td>\n      <td>...</td>\n      <td>...</td>\n      <td>...</td>\n      <td>...</td>\n      <td>...</td>\n      <td>...</td>\n      <td>...</td>\n      <td>...</td>\n      <td>...</td>\n    </tr>\n    <tr>\n      <th>1286811</th>\n      <td>92602</td>\n      <td>2020-12-31</td>\n      <td>PM</td>\n      <td>81.29000</td>\n      <td>82.92000</td>\n      <td>82.79000</td>\n      <td>2892403.0</td>\n      <td>0.016078</td>\n      <td>1557316.0</td>\n      <td>0.016078</td>\n      <td>1.289302e+08</td>\n      <td>1.63000</td>\n      <td>0.0</td>\n    </tr>\n    <tr>\n      <th>1286812</th>\n      <td>92611</td>\n      <td>2020-12-31</td>\n      <td>V</td>\n      <td>216.20000</td>\n      <td>219.82001</td>\n      <td>218.73000</td>\n      <td>5922170.0</td>\n      <td>0.001694</td>\n      <td>1695677.0</td>\n      <td>0.001694</td>\n      <td>3.708954e+08</td>\n      <td>3.62001</td>\n      <td>0.0</td>\n    </tr>\n    <tr>\n      <th>1286813</th>\n      <td>92655</td>\n      <td>2020-12-31</td>\n      <td>UNH</td>\n      <td>344.04999</td>\n      <td>351.09000</td>\n      <td>350.67999</td>\n      <td>1969227.0</td>\n      <td>0.016493</td>\n      <td>948821.0</td>\n      <td>0.016493</td>\n      <td>3.327325e+08</td>\n      <td>7.04001</td>\n      <td>0.0</td>\n    </tr>\n    <tr>\n      <th>1286814</th>\n      <td>93002</td>\n      <td>2020-12-31</td>\n      <td>AVGO</td>\n      <td>433.04999</td>\n      <td>438.50000</td>\n      <td>437.85001</td>\n      <td>1015614.0</td>\n      <td>0.006945</td>\n      <td>407000.0</td>\n      <td>0.006945</td>\n      <td>1.782050e+08</td>\n      <td>5.45001</td>\n      <td>0.0</td>\n    </tr>\n    <tr>\n      <th>1286815</th>\n      <td>93436</td>\n      <td>2020-12-31</td>\n      <td>TSLA</td>\n      <td>691.12000</td>\n      <td>718.71997</td>\n      <td>705.66998</td>\n      <td>49544141.0</td>\n      <td>0.015674</td>\n      <td>947901.0</td>\n      <td>0.015674</td>\n      <td>6.689053e+08</td>\n      <td>27.59997</td>\n      <td>0.0</td>\n    </tr>\n  </tbody>\n</table>\n<p>1286549 rows × 13 columns</p>\n</div>"
     },
     "execution_count": 27,
     "metadata": {},
     "output_type": "execute_result"
    }
   ],
   "source": [
    "s['spread'] = s['ASKHI'] - s['BIDLO']\n",
    "s = s[pd.to_numeric(s['RET'], errors = 'coerce').notna()]\n",
    "s['RET'] = s['RET'].apply(lambda x : float(x))\n",
    "s = s[pd.to_numeric(s['RETX'], errors = 'coerce').notna()]\n",
    "s['RETX'] = s['RETX'].apply(lambda x : float(x))\n",
    "s['divfac'] = s['RET'] - s['RETX']\n",
    "s['pctchgvol'] = s.groupby('PERMNO')['VOL'].pct_change()\n",
    "s"
   ],
   "metadata": {
    "collapsed": false,
    "pycharm": {
     "name": "#%%\n"
    }
   }
  },
  {
   "cell_type": "markdown",
   "source": [
    "## Column names for 'S'\n",
    "\n",
    "BIDLO = Bid price\n",
    "ASKHI = Ask price\n",
    "PRC = Price\n",
    "VOL = Volume\n",
    "RET = Returns\n",
    "SHROUT = Shares outstanding\n",
    "Spread = BID ASK spread\n",
    "divfac = amount dividends effected returns"
   ],
   "metadata": {
    "collapsed": false
   }
  },
  {
   "cell_type": "code",
   "execution_count": 86,
   "outputs": [
    {
     "data": {
      "text/plain": "            date  dailyreturns      totalcap   chngcap    divfac     spread  \\\n2211  1978-10-03     -0.003019  4.421349e+08 -0.004191  0.000370   0.658750   \n2212  1978-10-04      0.004778  4.449798e+08  0.006434  0.000000   0.823750   \n2213  1978-10-05      0.002003  4.452071e+08  0.000511  0.000000   0.725000   \n2214  1978-10-06      0.001968  4.461662e+08  0.002154  0.000060   0.665000   \n2215  1978-10-09      0.011510  4.516742e+08  0.012345  0.000000   0.778750   \n...          ...           ...           ...       ...       ...        ...   \n12860 2020-12-23      0.000843  2.395573e+10 -0.001125  0.000000  27.699945   \n12861 2020-12-24      0.001969  2.401165e+10  0.002334  0.000104  44.291331   \n12862 2020-12-28      0.004419  2.428004e+10  0.011177  0.000000  45.152603   \n12863 2020-12-29      0.001078  2.427635e+10 -0.000152  0.000000  33.126933   \n12864 2020-12-30      0.002413  2.426544e+10 -0.000449  0.000026  27.637401   \n\n           shrout   SDT_RET  Mkt-RF   SMB   HML   RMW   CMA     RF     SPYRET  \\\n2211     95254.96  0.009717   -0.31  0.01  0.13 -0.35 -0.04  0.031  -0.017964   \n2212     95384.82  0.012843    0.38 -0.46  0.05 -0.06  0.00  0.031   0.006098   \n2213     95507.30  0.010809    0.22  0.19  0.08  0.10 -0.15  0.031   0.024242   \n2214     95507.30  0.009378    0.23  0.16 -0.07  0.09 -0.09  0.031   0.047337   \n2215     95254.96  0.011347    0.92 -0.37 -0.19  0.29 -0.02  0.031   0.107345   \n...           ...       ...     ...   ...   ...   ...   ...    ...        ...   \n12860  1748866.63  0.015324    0.10  0.83  2.03  0.29  0.43  0.000   0.000899   \n12861  1748881.13  0.016186    0.21 -0.43 -0.18  0.23 -0.06  0.000   0.003890   \n12862  1762696.99  0.012615    0.46 -0.67  0.34  1.39  0.46  0.000   0.008591   \n12863  1768217.95  0.011280   -0.40 -1.42  0.23  0.75 -0.30  0.000  -0.001908   \n12864  1757747.88  0.010735    0.27  1.05  0.06 -0.65 -0.04  0.000   0.001427   \n\n       TMW_SPYRET  UP_DWN  \n2211     0.006098       1  \n2212     0.024242       1  \n2213     0.047337       1  \n2214     0.107345       1  \n2215     0.020408       1  \n...           ...     ...  \n12860    0.003890       1  \n12861    0.008591       1  \n12862   -0.001908       0  \n12863    0.001427       1  \n12864    0.005081       1  \n\n[9242 rows x 17 columns]",
      "text/html": "<div>\n<style scoped>\n    .dataframe tbody tr th:only-of-type {\n        vertical-align: middle;\n    }\n\n    .dataframe tbody tr th {\n        vertical-align: top;\n    }\n\n    .dataframe thead th {\n        text-align: right;\n    }\n</style>\n<table border=\"1\" class=\"dataframe\">\n  <thead>\n    <tr style=\"text-align: right;\">\n      <th></th>\n      <th>date</th>\n      <th>dailyreturns</th>\n      <th>totalcap</th>\n      <th>chngcap</th>\n      <th>divfac</th>\n      <th>spread</th>\n      <th>shrout</th>\n      <th>SDT_RET</th>\n      <th>Mkt-RF</th>\n      <th>SMB</th>\n      <th>HML</th>\n      <th>RMW</th>\n      <th>CMA</th>\n      <th>RF</th>\n      <th>SPYRET</th>\n      <th>TMW_SPYRET</th>\n      <th>UP_DWN</th>\n    </tr>\n  </thead>\n  <tbody>\n    <tr>\n      <th>2211</th>\n      <td>1978-10-03</td>\n      <td>-0.003019</td>\n      <td>4.421349e+08</td>\n      <td>-0.004191</td>\n      <td>0.000370</td>\n      <td>0.658750</td>\n      <td>95254.96</td>\n      <td>0.009717</td>\n      <td>-0.31</td>\n      <td>0.01</td>\n      <td>0.13</td>\n      <td>-0.35</td>\n      <td>-0.04</td>\n      <td>0.031</td>\n      <td>-0.017964</td>\n      <td>0.006098</td>\n      <td>1</td>\n    </tr>\n    <tr>\n      <th>2212</th>\n      <td>1978-10-04</td>\n      <td>0.004778</td>\n      <td>4.449798e+08</td>\n      <td>0.006434</td>\n      <td>0.000000</td>\n      <td>0.823750</td>\n      <td>95384.82</td>\n      <td>0.012843</td>\n      <td>0.38</td>\n      <td>-0.46</td>\n      <td>0.05</td>\n      <td>-0.06</td>\n      <td>0.00</td>\n      <td>0.031</td>\n      <td>0.006098</td>\n      <td>0.024242</td>\n      <td>1</td>\n    </tr>\n    <tr>\n      <th>2213</th>\n      <td>1978-10-05</td>\n      <td>0.002003</td>\n      <td>4.452071e+08</td>\n      <td>0.000511</td>\n      <td>0.000000</td>\n      <td>0.725000</td>\n      <td>95507.30</td>\n      <td>0.010809</td>\n      <td>0.22</td>\n      <td>0.19</td>\n      <td>0.08</td>\n      <td>0.10</td>\n      <td>-0.15</td>\n      <td>0.031</td>\n      <td>0.024242</td>\n      <td>0.047337</td>\n      <td>1</td>\n    </tr>\n    <tr>\n      <th>2214</th>\n      <td>1978-10-06</td>\n      <td>0.001968</td>\n      <td>4.461662e+08</td>\n      <td>0.002154</td>\n      <td>0.000060</td>\n      <td>0.665000</td>\n      <td>95507.30</td>\n      <td>0.009378</td>\n      <td>0.23</td>\n      <td>0.16</td>\n      <td>-0.07</td>\n      <td>0.09</td>\n      <td>-0.09</td>\n      <td>0.031</td>\n      <td>0.047337</td>\n      <td>0.107345</td>\n      <td>1</td>\n    </tr>\n    <tr>\n      <th>2215</th>\n      <td>1978-10-09</td>\n      <td>0.011510</td>\n      <td>4.516742e+08</td>\n      <td>0.012345</td>\n      <td>0.000000</td>\n      <td>0.778750</td>\n      <td>95254.96</td>\n      <td>0.011347</td>\n      <td>0.92</td>\n      <td>-0.37</td>\n      <td>-0.19</td>\n      <td>0.29</td>\n      <td>-0.02</td>\n      <td>0.031</td>\n      <td>0.107345</td>\n      <td>0.020408</td>\n      <td>1</td>\n    </tr>\n    <tr>\n      <th>...</th>\n      <td>...</td>\n      <td>...</td>\n      <td>...</td>\n      <td>...</td>\n      <td>...</td>\n      <td>...</td>\n      <td>...</td>\n      <td>...</td>\n      <td>...</td>\n      <td>...</td>\n      <td>...</td>\n      <td>...</td>\n      <td>...</td>\n      <td>...</td>\n      <td>...</td>\n      <td>...</td>\n      <td>...</td>\n    </tr>\n    <tr>\n      <th>12860</th>\n      <td>2020-12-23</td>\n      <td>0.000843</td>\n      <td>2.395573e+10</td>\n      <td>-0.001125</td>\n      <td>0.000000</td>\n      <td>27.699945</td>\n      <td>1748866.63</td>\n      <td>0.015324</td>\n      <td>0.10</td>\n      <td>0.83</td>\n      <td>2.03</td>\n      <td>0.29</td>\n      <td>0.43</td>\n      <td>0.000</td>\n      <td>0.000899</td>\n      <td>0.003890</td>\n      <td>1</td>\n    </tr>\n    <tr>\n      <th>12861</th>\n      <td>2020-12-24</td>\n      <td>0.001969</td>\n      <td>2.401165e+10</td>\n      <td>0.002334</td>\n      <td>0.000104</td>\n      <td>44.291331</td>\n      <td>1748881.13</td>\n      <td>0.016186</td>\n      <td>0.21</td>\n      <td>-0.43</td>\n      <td>-0.18</td>\n      <td>0.23</td>\n      <td>-0.06</td>\n      <td>0.000</td>\n      <td>0.003890</td>\n      <td>0.008591</td>\n      <td>1</td>\n    </tr>\n    <tr>\n      <th>12862</th>\n      <td>2020-12-28</td>\n      <td>0.004419</td>\n      <td>2.428004e+10</td>\n      <td>0.011177</td>\n      <td>0.000000</td>\n      <td>45.152603</td>\n      <td>1762696.99</td>\n      <td>0.012615</td>\n      <td>0.46</td>\n      <td>-0.67</td>\n      <td>0.34</td>\n      <td>1.39</td>\n      <td>0.46</td>\n      <td>0.000</td>\n      <td>0.008591</td>\n      <td>-0.001908</td>\n      <td>0</td>\n    </tr>\n    <tr>\n      <th>12863</th>\n      <td>2020-12-29</td>\n      <td>0.001078</td>\n      <td>2.427635e+10</td>\n      <td>-0.000152</td>\n      <td>0.000000</td>\n      <td>33.126933</td>\n      <td>1768217.95</td>\n      <td>0.011280</td>\n      <td>-0.40</td>\n      <td>-1.42</td>\n      <td>0.23</td>\n      <td>0.75</td>\n      <td>-0.30</td>\n      <td>0.000</td>\n      <td>-0.001908</td>\n      <td>0.001427</td>\n      <td>1</td>\n    </tr>\n    <tr>\n      <th>12864</th>\n      <td>2020-12-30</td>\n      <td>0.002413</td>\n      <td>2.426544e+10</td>\n      <td>-0.000449</td>\n      <td>0.000026</td>\n      <td>27.637401</td>\n      <td>1757747.88</td>\n      <td>0.010735</td>\n      <td>0.27</td>\n      <td>1.05</td>\n      <td>0.06</td>\n      <td>-0.65</td>\n      <td>-0.04</td>\n      <td>0.000</td>\n      <td>0.001427</td>\n      <td>0.005081</td>\n      <td>1</td>\n    </tr>\n  </tbody>\n</table>\n<p>9242 rows × 17 columns</p>\n</div>"
     },
     "execution_count": 86,
     "metadata": {},
     "output_type": "execute_result"
    }
   ],
   "source": [
    "n = pd.DataFrame()\n",
    "n['dailyreturns'] = s.groupby('date')['RET'].mean()\n",
    "n['totalcap'] = s.groupby('date')['mktcap'].sum()\n",
    "n['chngcap'] = n['totalcap'].pct_change()\n",
    "n['divfac'] = s.groupby('date')['divfac'].mean()\n",
    "n['spread'] = s.groupby('date')['spread'].mean()\n",
    "n['shrout'] = s.groupby('date')['SHROUT'].mean()\n",
    "n['SDT_RET'] = s.groupby('date')['RET'].std()\n",
    "n = n.reset_index()\n",
    "n['date'] = pd.to_datetime(n['date'])\n",
    "n = pd.merge(n, ff, how = 'left', left_on = 'date', right_on = 'date')\n",
    "stock = pd.read_csv('All_Stock.csv')\n",
    "stock = stock[stock['TICKER'] == 'SPY'][['date', 'RET']]\n",
    "stock['date'] = pd.to_datetime(stock['date'])\n",
    "n = pd.merge(n, stock, how='left', left_on='date', right_on='date')\n",
    "n = n[n['date'] >= '1978-10-03']\n",
    "n = n.rename(columns= {'RET':'SPYRET'})\n",
    "n['TMW_SPYRET'] = n['SPYRET'].shift(-1)\n",
    "n = n[pd.to_numeric(n['TMW_SPYRET'], errors = 'coerce').notna()]\n",
    "n['TMW_SPYRET'] = n['TMW_SPYRET'].apply(lambda x : float(x))\n",
    "n['UP_DWN'] =  1 * (n['TMW_SPYRET'] > 0)\n",
    "n = n[pd.to_numeric(n['TMW_SPYRET'], errors = 'coerce').notna()]\n",
    "n['TMW_SPYRET'] = n['TMW_SPYRET'].apply(lambda x : float(x))\n",
    "n['UP_DWN'] =  1 * (n['TMW_SPYRET'] > 0)\n",
    "n"
   ],
   "metadata": {
    "collapsed": false,
    "pycharm": {
     "name": "#%%\n"
    }
   }
  },
  {
   "cell_type": "markdown",
   "source": [
    "# Columns for 'n' and comentary on importance\n",
    "\n",
    "### this table is the aggragate for the top 100 firms in the market for each day\n",
    "\n",
    "dailyreturns = average daily returns\n",
    "    Previous days returns could be a large indicator in how the market moves\n",
    "totalcap = total market capitalization for the 100 firms\n",
    "    A changee in the total cap of the country could indicate volitility\n",
    "changecap = percent change in totalcap\n",
    "divfac = sum divfac for that day\n",
    "    More dividends one day could put confidence pushing the returns of SPY up\n",
    "spread = average spread\n",
    "    Higher spread could indicate less trading and more conservatice ways to come\n",
    "shrout = shares outstanding in the top 100 firms\n",
    "    This could indicate macro changes from reports and splits to effect psycology\n",
    "Mkt-Rf = market returns - risk free\n",
    "    total market returns not that would be outside of our firms investigates\n",
    "SMB = smallcap minus largecap\n",
    "    If small caps react different than large then there could be macro effects\n",
    "HML = value minus growth companies\n",
    "    Same as SMB\n",
    "RMW = robust minus weak\n",
    "    Similar to SMB\n",
    "CMA = conservative minus agressive\n",
    "    Similar to CMA\n",
    "RF = risk free\n",
    "    Incase needed, but changing treasury rates could effect the economic outlook\n",
    "SPYRET = SPY returns for the day\n",
    "TMW_SPYRET = the SPY returns for the next day\n",
    "UP_DWN = 1 -> Market up tomorrow, 0 -> Market down tomorrow\n",
    "    This is the target variable\n",
    "STD_RET = standard deviation of daily returns\n",
    "    more volitiltiy could effect the next day of trading.\n"
   ],
   "metadata": {
    "collapsed": false
   }
  },
  {
   "cell_type": "code",
   "execution_count": 87,
   "outputs": [],
   "source": [
    "n.to_csv('daily_aggragate_data.csv', index=False)"
   ],
   "metadata": {
    "collapsed": false,
    "pycharm": {
     "name": "#%%\n"
    }
   }
  },
  {
   "cell_type": "code",
   "execution_count": null,
   "outputs": [],
   "source": [],
   "metadata": {
    "collapsed": false,
    "pycharm": {
     "name": "#%%\n"
    }
   }
  }
 ],
 "metadata": {
  "kernelspec": {
   "display_name": "Python 3",
   "language": "python",
   "name": "python3"
  },
  "language_info": {
   "codemirror_mode": {
    "name": "ipython",
    "version": 2
   },
   "file_extension": ".py",
   "mimetype": "text/x-python",
   "name": "python",
   "nbconvert_exporter": "python",
   "pygments_lexer": "ipython2",
   "version": "2.7.6"
  }
 },
 "nbformat": 4,
 "nbformat_minor": 0
}