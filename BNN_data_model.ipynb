{
 "cells": [
  {
   "cell_type": "markdown",
   "id": "424a61e8",
   "metadata": {},
   "source": [
    "# Can an Investor Beat the Market Using Machine Learning?"
   ]
  },
  {
   "cell_type": "code",
   "execution_count": 650,
   "id": "80eb5666",
   "metadata": {},
   "outputs": [],
   "source": [
    "# import packages and filter warnings\n",
    "import pandas as pd\n",
    "import numpy as np\n",
    "import math\n",
    "import sklearn\n",
    "import warnings\n",
    "import matplotlib.pyplot as plt\n",
    "from sklearn.linear_model import LogisticRegression\n",
    "from sklearn.tree import DecisionTreeClassifier\n",
    "from sklearn.ensemble import BaggingClassifier, RandomForestClassifier, GradientBoostingClassifier, AdaBoostClassifier\n",
    "from sklearn.model_selection import train_test_split, GridSearchCV\n",
    "from sklearn.metrics import accuracy_score, roc_auc_score\n",
    "import yfinance as yf\n",
    "import talib\n",
    "import datetime\n",
    "import seaborn as sns \n",
    "from sklearn.preprocessing import StandardScaler\n",
    "from sklearn.preprocessing import MinMaxScaler\n",
    "from keras.models import Sequential\n",
    "from keras.layers import Dense\n",
    "from keras.layers import Dropout\n",
    "from sklearn.metrics import confusion_matrix\n",
    "from numpy import vstack\n",
    "import torch\n",
    "import torch.utils as utils\n",
    "import torch.nn as nn\n",
    "import torch.nn.functional as F\n",
    "import torch.optim as optim\n",
    "import blitz\n",
    "from blitz.modules import BayesianLinear\n",
    "from blitz.utils import variational_estimator\n",
    "import tensorflow as tf\n",
    "from tensorflow import keras\n",
    "from tensorflow.keras import layers\n",
    "import tensorflow_probability as tfp\n",
    "from keras import optimizers\n",
    "\n",
    "warnings.filterwarnings('ignore')"
   ]
  },
  {
   "cell_type": "markdown",
   "id": "c7d3dfac",
   "metadata": {},
   "source": [
    "## Foundation Data Preprocessing"
   ]
  },
  {
   "cell_type": "code",
   "execution_count": null,
   "id": "482147f3",
   "metadata": {},
   "outputs": [],
   "source": [
    "# import fundamental data\n",
    "# funds = pd.read_csv('Final Project Fundamentals.csv')"
   ]
  },
  {
   "cell_type": "code",
   "execution_count": null,
   "id": "0dc24280",
   "metadata": {},
   "outputs": [],
   "source": [
    "# # clean fundamental data\n",
    "# funds['mktcap'] = funds['csh12q'] * funds['prccq']\n",
    "# funds['DE_ratio'] = funds['dlttq'] / funds['mktcap']\n",
    "# funds.drop(['consol','popsrc','costat','datafmt','indfmt','GVKEY'],axis =1, inplace = True)\n",
    "# funds['BookMark_ratio'] = funds['teqq'] / funds['mktcap']\n",
    "# funds['EPS_growth'] = (funds.groupby('LPERMNO')['epspiq'].shift(0) - funds.groupby('LPERMNO')['epspiq'].shift(1))/abs(funds.groupby('LPERMNO')['epspiq'].shift(1))\n",
    "# funds['OP_margin'] = funds['oibdpq'] / funds['revtq']\n",
    "# funds.drop(['curcdq','datacqtr','csh12q','dlttq','epspiq','oibdpq','revtq','teqq','prccq'],axis=1,inplace=True)\n",
    "# # avoid lookahead bias in fundamental data\n",
    "# funds['datadate'] = pd.to_datetime(funds['datadate']) + pd.DateOffset(months=3)\n",
    "# funds.fillna(0, inplace=True)\n",
    "# funds['month'] = pd.to_datetime(funds['datadate']).dt.strftime('%m')\n",
    "# funds['year'] = pd.to_datetime(funds['datadate']).dt.strftime('%Y')\n",
    "# ls = []\n",
    "# for i in funds['month']:\n",
    "#     if int(i) < 4:\n",
    "#         ls.append(1)\n",
    "#     elif int(i) > 3 and int(i) < 7:\n",
    "#         ls.append(2)\n",
    "#     elif int(i) > 6 and int(i) < 10:\n",
    "#         ls.append(3)\n",
    "#     else:\n",
    "#         ls.append(4)\n",
    "# funds['quarter'] = ls\n",
    "# funds = funds[['LPERMNO','datadate','conm','mktcap','DE_ratio','BookMark_ratio','EPS_growth','OP_margin','quarter','year']]"
   ]
  },
  {
   "cell_type": "code",
   "execution_count": null,
   "id": "9aa3102f",
   "metadata": {},
   "outputs": [],
   "source": [
    "# Pull in Treasury Rates for Various Maturities\n",
    "rates = pd.read_csv('Treasury_Rates.csv')"
   ]
  },
  {
   "cell_type": "code",
   "execution_count": null,
   "id": "6a8113ef",
   "metadata": {},
   "outputs": [],
   "source": [
    "# Clean rate data\n",
    "rates.set_index('DATE',inplace=True)\n",
    "rates.fillna(0, inplace=True)"
   ]
  },
  {
   "cell_type": "code",
   "execution_count": null,
   "id": "17e88df4",
   "metadata": {},
   "outputs": [],
   "source": [
    "# Pull in Corporate Bond Yields\n",
    "corp_yield = pd.read_csv('Corp_yields.csv')\n",
    "corp_yield.set_index('DATE',inplace=True)"
   ]
  },
  {
   "cell_type": "code",
   "execution_count": null,
   "id": "617a9cd7",
   "metadata": {},
   "outputs": [],
   "source": [
    "# Import market indexes and commodities\n",
    "indexes = pd.read_csv('Market_Indexes.csv')\n",
    "indexes.dropna(subset=['Date'],axis=0,inplace=True)"
   ]
  },
  {
   "cell_type": "code",
   "execution_count": null,
   "id": "a9d2d57a",
   "metadata": {},
   "outputs": [],
   "source": [
    "# get rid of some bad Gold data\n",
    "indexes.set_index('Date',inplace=True)\n",
    "indexes['GOLD'] = pd.to_numeric(indexes['GOLD'],errors='coerce')"
   ]
  },
  {
   "cell_type": "code",
   "execution_count": null,
   "id": "11c273f8",
   "metadata": {},
   "outputs": [],
   "source": [
    "# use interpolation to fill NaN values\n",
    "indexes['GOLD'] = indexes['GOLD'].interpolate()\n",
    "indexes['OIL'] = pd.to_numeric(indexes['OIL'],errors='coerce')\n",
    "indexes['OIL'] = indexes['OIL'].interpolate()"
   ]
  },
  {
   "cell_type": "code",
   "execution_count": null,
   "id": "07837adf",
   "metadata": {},
   "outputs": [],
   "source": [
    "# create return data for market indexes and exchange rates\n",
    "indexes['DJIA_chg'] = indexes['DJIA'].pct_change()\n",
    "indexes['NASDAQ_chg'] = indexes['NASDAQ'].pct_change()\n",
    "indexes['Shang_chg'] = indexes['Shanghai Ind'].pct_change()\n",
    "indexes['DAX_chg'] = indexes['Dax Index'].pct_change()\n",
    "indexes['Hang_chg'] = indexes['Hang Seng Index'].pct_change()\n",
    "indexes['CAC_chg'] = indexes['CAC Index'].pct_change()\n",
    "indexes['VIX_chg'] = indexes['VIX'].pct_change()\n",
    "indexes['Dollar_chg'] = indexes['Dollar Index'].pct_change()\n",
    "indexes['EurDoll_chg'] = indexes['EuroDollar EXG'].pct_change()\n",
    "indexes['PouDoll_chg'] = indexes['PoundDollar EXG'].pct_change()\n",
    "indexes['YenDollar_chg'] = indexes['YenDollar EXG'].pct_change()\n",
    "\n",
    "indexes['Gold_chg'] = indexes['GOLD'].pct_change()\n",
    "indexes['Oil_chg'] = indexes['OIL'].pct_change()\n",
    "indexes.fillna(0,inplace=True)"
   ]
  },
  {
   "cell_type": "code",
   "execution_count": null,
   "id": "c06db9a9",
   "metadata": {},
   "outputs": [],
   "source": [
    "# set rate column names\n",
    "rates.columns = ['1yr','1yr_chg','10yr','10yr_chg','1mo','1mo_chg','2yr','2yr_chg','3yr','3yr_chg','3mo','3mo_chg','5yr','5yr_chg','6mo','6mo_chg','7yr','7yr_chg']"
   ]
  },
  {
   "cell_type": "code",
   "execution_count": null,
   "id": "65cc4b4f",
   "metadata": {},
   "outputs": [],
   "source": [
    "# combine corporate and treasury yields\n",
    "yields = rates.merge(corp_yield,how='left',left_index=True,right_index=True)\n",
    "yields.fillna(0,inplace=True)"
   ]
  },
  {
   "cell_type": "code",
   "execution_count": 82,
   "id": "d3d8dff3",
   "metadata": {},
   "outputs": [],
   "source": [
    "# Import S&P500 top 100 companies\n",
    "filt_ret = pd.read_csv('filtered_returns.csv')"
   ]
  },
  {
   "cell_type": "code",
   "execution_count": 83,
   "id": "dd0f7824",
   "metadata": {},
   "outputs": [],
   "source": [
    "# create month and year columns\n",
    "filt_ret['month'] = pd.to_datetime(filt_ret['date']).dt.strftime('%m')\n",
    "filt_ret['year'] = pd.to_datetime(filt_ret['date']).dt.strftime('%Y')"
   ]
  },
  {
   "cell_type": "code",
   "execution_count": 84,
   "id": "c506e909",
   "metadata": {},
   "outputs": [],
   "source": [
    "# create a quarter column for merging\n",
    "ls = []\n",
    "for i in filt_ret['month']:\n",
    "    if int(i) < 4:\n",
    "        ls.append(1)\n",
    "    elif int(i) > 3 and int(i) < 7:\n",
    "        ls.append(2)\n",
    "    elif int(i) > 6 and int(i) < 10:\n",
    "        ls.append(3)\n",
    "    else:\n",
    "        ls.append(4)\n",
    "filt_ret['quarter'] = ls"
   ]
  },
  {
   "cell_type": "code",
   "execution_count": 85,
   "id": "d0fbf036",
   "metadata": {},
   "outputs": [],
   "source": [
    "# create day spread column\n",
    "filt_ret['DaySpread'] = filt_ret['ASKHI'] - filt_ret['BIDLO']"
   ]
  },
  {
   "cell_type": "code",
   "execution_count": 86,
   "id": "880b0d78",
   "metadata": {},
   "outputs": [],
   "source": [
    "# Create 3 and 10 day simple moving averages of volume\n",
    "vol3 = pd.DataFrame(filt_ret.groupby('PERMNO')['VOL'].rolling(window=3).mean())\n",
    "vol10 = pd.DataFrame(filt_ret.groupby('PERMNO')['VOL'].rolling(window=10).mean())"
   ]
  },
  {
   "cell_type": "code",
   "execution_count": 87,
   "id": "4bd089df",
   "metadata": {},
   "outputs": [],
   "source": [
    "# Add volume data to returns\n",
    "filt_ret = filt_ret.reset_index().merge(vol3.reset_index(),left_on=['index','PERMNO'],right_on=['level_1','PERMNO'])"
   ]
  },
  {
   "cell_type": "code",
   "execution_count": 88,
   "id": "d7a12bfa",
   "metadata": {},
   "outputs": [],
   "source": [
    "# Do some more cleaning\n",
    "filt_ret.rename(columns={'VOL_y':'3dayVOL'},inplace=True)\n",
    "filt_ret.drop(['level_1','index'],axis=1, inplace=True)"
   ]
  },
  {
   "cell_type": "code",
   "execution_count": 89,
   "id": "697ee44c",
   "metadata": {},
   "outputs": [],
   "source": [
    "# # Add volume data to returns\n",
    "filt_ret = filt_ret.reset_index().merge(vol10.reset_index(),left_on=['index','PERMNO'],right_on=['level_1','PERMNO'])"
   ]
  },
  {
   "cell_type": "code",
   "execution_count": 90,
   "id": "9c50d258",
   "metadata": {},
   "outputs": [],
   "source": [
    "# drop columns\n",
    "filt_ret.drop(['index','level_1'],axis=1,inplace=True)"
   ]
  },
  {
   "cell_type": "code",
   "execution_count": 91,
   "id": "591150b4",
   "metadata": {},
   "outputs": [],
   "source": [
    "# Rename volume columns\n",
    "filt_ret.rename(columns={'VOL':'10dayVOL'},inplace=True)"
   ]
  },
  {
   "cell_type": "code",
   "execution_count": 92,
   "id": "1595b812",
   "metadata": {},
   "outputs": [],
   "source": [
    "# drop unneeded columns\n",
    "filt_ret.drop(['SHROUT','RETX','month'],axis=1, inplace=True)"
   ]
  },
  {
   "cell_type": "code",
   "execution_count": 93,
   "id": "df1a09bf",
   "metadata": {},
   "outputs": [],
   "source": [
    "# Fill na values\n",
    "filt_ret.fillna(0,inplace=True)"
   ]
  },
  {
   "cell_type": "code",
   "execution_count": 94,
   "id": "588d83ed",
   "metadata": {},
   "outputs": [],
   "source": [
    "# create dataframe to add momentum factors\n",
    "mom_df = pd.DataFrame(data={'date':[],'PERMNO':[],'RSI':[],'WILLR':[]})"
   ]
  },
  {
   "cell_type": "code",
   "execution_count": 95,
   "id": "2dc4e9c7",
   "metadata": {},
   "outputs": [],
   "source": [
    "# calculate momentum factors\n",
    "for i in range(0,len(pd.DataFrame(filt_ret.groupby('PERMNO')))):\n",
    "    temp_df = pd.DataFrame(filt_ret.groupby('PERMNO')).iloc[i,1]\n",
    "    temp_df['RSI'] = talib.RSI(temp_df['PRC'],timeperiod=14)\n",
    "    temp_df['WILLR'] = talib.WILLR(temp_df['ASKHI'],temp_df['BIDLO'],temp_df['PRC'],timeperiod=14)\n",
    "    mom_df = pd.concat([mom_df,temp_df[['PERMNO','date','RSI','WILLR']]])"
   ]
  },
  {
   "cell_type": "code",
   "execution_count": 96,
   "id": "3ce5a235",
   "metadata": {},
   "outputs": [],
   "source": [
    "# add momentum factors to dataset\n",
    "filt_ret = filt_ret.merge(mom_df,left_on=['PERMNO','date'],right_on=['PERMNO','date'])"
   ]
  },
  {
   "cell_type": "code",
   "execution_count": 123,
   "id": "521b3341",
   "metadata": {},
   "outputs": [],
   "source": [
    "# make return data numeric type\n",
    "filt_ret['RET'] = pd.to_numeric(filt_ret['RET'],errors='coerce')"
   ]
  },
  {
   "cell_type": "code",
   "execution_count": 125,
   "id": "00c7bf0f",
   "metadata": {},
   "outputs": [],
   "source": [
    "# drop any returns that could not be transformed to numeric type\n",
    "filt_ret.dropna(subset=['RET'],how='any',inplace=True)"
   ]
  },
  {
   "cell_type": "code",
   "execution_count": null,
   "id": "eb0e5ca4",
   "metadata": {},
   "outputs": [],
   "source": [
    "# Merge return and fundamental data\n",
    "stocks = filt_ret.merge(funds, how='left',left_on=['PERMNO','quarter','year'],right_on=['LPERMNO','quarter','year'],suffixes=['_ret','_fund'])\n",
    "stocks.fillna(0,inplace=True)"
   ]
  },
  {
   "cell_type": "code",
   "execution_count": null,
   "id": "d6fbb481",
   "metadata": {},
   "outputs": [],
   "source": [
    "# rename column\n",
    "stocks.rename(columns={'VOL_x':'DailyVOL'},inplace=True)"
   ]
  },
  {
   "cell_type": "code",
   "execution_count": null,
   "id": "3a24d5ed",
   "metadata": {},
   "outputs": [],
   "source": [
    "# drop unneeded columns\n",
    "stocks.drop(['TICKER','BIDLO','ASKHI','year','quarter','datadate','conm','LPERMNO'],axis=1,inplace=True)"
   ]
  },
  {
   "cell_type": "code",
   "execution_count": null,
   "id": "b3745187",
   "metadata": {},
   "outputs": [],
   "source": [
    "# clear memory\n",
    "del filt_ret\n",
    "del funds\n",
    "del mom_df\n",
    "del rates\n",
    "del corp_yield"
   ]
  },
  {
   "cell_type": "code",
   "execution_count": null,
   "id": "2e71b18e",
   "metadata": {},
   "outputs": [],
   "source": [
    "# Write data to csv files\n",
    "stocks.to_csv('stock_data.csv', index=False)\n",
    "ret.to_csv('sp500_returns.csv',index=False)\n",
    "indexes.reset_index(inplace=True)\n",
    "indexes.to_csv('index_returns.csv',index=False)\n",
    "yields.reset_index(inplace=True)\n",
    "yields.to_csv('corp_treas_yields.csv',index=False)"
   ]
  },
  {
   "cell_type": "markdown",
   "id": "5ac2f096",
   "metadata": {},
   "source": [
    "## Final Data Preprocessing"
   ]
  },
  {
   "cell_type": "code",
   "execution_count": 167,
   "id": "8192452b",
   "metadata": {},
   "outputs": [],
   "source": [
    "# load in data\n",
    "stocks = pd.read_csv('stock_data.csv')\n",
    "yields = pd.read_csv('corp_treas_yields.csv')\n",
    "indexes = pd.read_csv('index_returns.csv')"
   ]
  },
  {
   "cell_type": "code",
   "execution_count": 169,
   "id": "7d6d5ef3",
   "metadata": {},
   "outputs": [],
   "source": [
    "# reindex date column\n",
    "indexes.set_index('Date',inplace=True)"
   ]
  },
  {
   "cell_type": "code",
   "execution_count": 170,
   "id": "faad5000",
   "metadata": {},
   "outputs": [],
   "source": [
    "# drop unneccessary columns\n",
    "stocks.drop(['mktcap_ret','PRC','mktcap_fund','DE_ratio','BookMark_ratio','EPS_growth','OP_margin','PERMNO'],axis=1,inplace=True)"
   ]
  },
  {
   "cell_type": "code",
   "execution_count": 171,
   "id": "7a06c0ce",
   "metadata": {},
   "outputs": [],
   "source": [
    "# reindex date column\n",
    "stocks.set_index('date',inplace=True)"
   ]
  },
  {
   "cell_type": "code",
   "execution_count": 172,
   "id": "cdd847ae",
   "metadata": {},
   "outputs": [],
   "source": [
    "# transform all data in the dataframe to numeric type\n",
    "stocks = stocks.applymap(lambda x: pd.to_numeric(x,errors='coerce'))"
   ]
  },
  {
   "cell_type": "code",
   "execution_count": 173,
   "id": "89eceb59",
   "metadata": {},
   "outputs": [],
   "source": [
    "# calculatee percentiles of 8 different metrics\n",
    "perc_df = pd.DataFrame()\n",
    "for i in range(5,100,5):\n",
    "    perc_df['PerRET_' + str(i)] = stocks.groupby('date')['RET'].quantile(i/100)\n",
    "    perc_df['PerVOL_' + str(i)] = stocks.groupby('date')['DailyVOL'].quantile(i/100)\n",
    "    perc_df['Per3VOL_' + str(i)] = stocks.groupby('date')['3dayVOL'].quantile(i/100)\n",
    "    perc_df['Per10VOL_' + str(i)] = stocks.groupby('date')['10dayVOL'].quantile(i/100)\n",
    "    perc_df['PerRSI' + str(i)] = stocks.groupby('date')['RSI'].quantile(i/100)\n",
    "    perc_df['PerWILLR' + str(i)] = stocks.groupby('date')['WILLR'].quantile(i/100)\n",
    "    perc_df['PerSpread' + str(i)] = stocks.groupby('date')['DaySpread'].quantile(i/100)"
   ]
  },
  {
   "cell_type": "code",
   "execution_count": 175,
   "id": "86b7d3dc",
   "metadata": {},
   "outputs": [],
   "source": [
    "# Reindex date column\n",
    "yields.set_index('DATE',inplace=True)"
   ]
  },
  {
   "cell_type": "code",
   "execution_count": 176,
   "id": "9d03180b",
   "metadata": {},
   "outputs": [],
   "source": [
    "# merge the percentile data with the corporate bond and treasury yields\n",
    "df1 = perc_df.merge(yields, how='left',left_index=True,right_index=True)"
   ]
  },
  {
   "cell_type": "code",
   "execution_count": 177,
   "id": "b94bbeae",
   "metadata": {},
   "outputs": [],
   "source": [
    "# merge the index data with the yields and percentiles\n",
    "df_final = df1.merge(indexes, how='left',left_index=True,right_index=True)"
   ]
  },
  {
   "cell_type": "code",
   "execution_count": 178,
   "id": "4a215237",
   "metadata": {},
   "outputs": [],
   "source": [
    "# write final data set to csv for safe keeping\n",
    "df_final.reset_index(inplace=True)\n",
    "df_final.to_csv('final_data_v2.csv',index=False)"
   ]
  },
  {
   "cell_type": "code",
   "execution_count": 179,
   "id": "5b7daff9",
   "metadata": {},
   "outputs": [],
   "source": [
    "# load in data\n",
    "df_final = pd.read_csv('final_data_v2.csv')"
   ]
  },
  {
   "cell_type": "code",
   "execution_count": 182,
   "id": "8b1a82b4",
   "metadata": {},
   "outputs": [],
   "source": [
    "# Reindex date column\n",
    "df_final.set_index('date',inplace=True)"
   ]
  },
  {
   "cell_type": "code",
   "execution_count": 45,
   "id": "1225294a",
   "metadata": {},
   "outputs": [],
   "source": [
    "# Rearrange the column order\n",
    "df_final = df_final[[c for c in df_final if c not in ['UpDown']] + ['UpDown']]"
   ]
  },
  {
   "cell_type": "code",
   "execution_count": 46,
   "id": "2f4ab1d1",
   "metadata": {},
   "outputs": [],
   "source": [
    "# Drop unnecessary columns\n",
    "# df_final.drop([f'PERMNO_{i}' for i in range(0,100)],axis=1,inplace=True)"
   ]
  },
  {
   "cell_type": "code",
   "execution_count": 183,
   "id": "5131f932",
   "metadata": {},
   "outputs": [],
   "source": [
    "# Change index to datetime type\n",
    "df_final.index = pd.to_datetime(df_final.index)"
   ]
  },
  {
   "cell_type": "code",
   "execution_count": 184,
   "id": "b799ce9d",
   "metadata": {},
   "outputs": [],
   "source": [
    "# Replace any infinite data to NaN\n",
    "df_final = df_final.replace([np.inf,-np.inf],np.NaN)"
   ]
  },
  {
   "cell_type": "code",
   "execution_count": 185,
   "id": "201a3d85",
   "metadata": {},
   "outputs": [],
   "source": [
    "# All data in dataframe transformed to numeric\n",
    "df_final = df_final.applymap(lambda x: pd.to_numeric(x,errors='coerce'))"
   ]
  },
  {
   "cell_type": "code",
   "execution_count": 186,
   "id": "6f62b2cf",
   "metadata": {},
   "outputs": [],
   "source": [
    "# Make sure any NaNs are transformed using linear interpolation\n",
    "df_final.astype(float).interpolate(method='time', axis=0,limit_direction='both',inplace=True)"
   ]
  },
  {
   "cell_type": "code",
   "execution_count": 187,
   "id": "27a41fa1",
   "metadata": {},
   "outputs": [],
   "source": [
    "# Fill any left over NaNs\n",
    "df_final.fillna(0,inplace=True)"
   ]
  },
  {
   "cell_type": "markdown",
   "id": "eb3ec772",
   "metadata": {},
   "source": [
    "### Retrieve SPY data"
   ]
  },
  {
   "cell_type": "code",
   "execution_count": 189,
   "id": "e5031304",
   "metadata": {},
   "outputs": [
    {
     "name": "stdout",
     "output_type": "stream",
     "text": [
      "[*********************100%***********************]  1 of 1 completed\n"
     ]
    }
   ],
   "source": [
    "# gather SPY data from yahoo finance\n",
    "ret = yf.download('SPY', start='1970-01-01', end='2020-12-31',period='1d')"
   ]
  },
  {
   "cell_type": "code",
   "execution_count": 190,
   "id": "27648ba5",
   "metadata": {},
   "outputs": [],
   "source": [
    "# Calculate return data\n",
    "ret = ret[ret['Open']>0]\n",
    "ret['DaySpread'] = ret['High'] - ret['Low']\n",
    "ret['Ret0'] = ret['Close'].pct_change()\n",
    "ret['Ret1'] = ret['Ret0'].shift(1)\n",
    "ret['Ret2'] = ret['Ret0'].shift(2)\n",
    "ret['Ret3'] = ret['Ret0'].shift(3)\n",
    "ret['RPD5'] = ((ret['Close']-ret['Close'].shift(5))/ret['Close'].shift(5)) * 100\n",
    "ret['RPD10'] = ((ret['Close']-ret['Close'].shift(10))/ret['Close'].shift(10))*100\n",
    "ret['RPD15'] = ((ret['Close']-ret['Close'].shift(15))/ret['Close'].shift(15))*100\n",
    "ret['RPD20'] = ((ret['Close']-ret['Close'].shift(20))/ret['Close'].shift(20)) * 100"
   ]
  },
  {
   "cell_type": "code",
   "execution_count": 191,
   "id": "89b1d03a",
   "metadata": {},
   "outputs": [],
   "source": [
    "# Function to calculate exponential moving averages\n",
    "def calculate_ema(prices, days, smoothing=2):\n",
    "    ema = [sum(prices[:days]) / days]\n",
    "    for price in prices[days:]:\n",
    "        ema.append((price * (smoothing / (1 + days))) + ema[-1] * (1 - (smoothing / (1 + days))))\n",
    "    return ema"
   ]
  },
  {
   "cell_type": "code",
   "execution_count": 192,
   "id": "ba3ca60c",
   "metadata": {},
   "outputs": [],
   "source": [
    "# Calculate Exponential Moving Averages\n",
    "ret['EMA5'],ret['EMA10'],ret['EMA20'],ret['EMA50'],ret['EMA100'],ret['EMA200'] = 0,0,0,0,0,0\n",
    "ret['EMA5'].iloc[4:] = calculate_ema(ret['Close'],5)\n",
    "ret['EMA10'].iloc[9:] = calculate_ema(ret['Close'],10)\n",
    "ret['EMA20'].iloc[19:] = calculate_ema(ret['Close'],20)\n",
    "ret['EMA50'].iloc[49:] = calculate_ema(ret['Close'],50)\n",
    "ret['EMA100'].iloc[99:] = calculate_ema(ret['Close'],100)\n",
    "ret['EMA200'].iloc[199:] = calculate_ema(ret['Close'],200)\n",
    "# Create Y binary variable for model prediction\n",
    "ret['UpDown'] = ret['Ret0'].apply(lambda x: 1 if x > 0 else 0).shift(-1)\n",
    "ret = ret.iloc[:-1]\n",
    "ret['3dayVOL'] = ret['Volume'].rolling(window=3).mean()\n",
    "ret['10dayVOL'] = ret['Volume'].rolling(window=10).mean()\n",
    "ret['3daySTD'] = ret['Ret0'].rolling(window=3).std()\n",
    "ret['6daySTD'] = ret['Ret0'].rolling(window=6).std()\n",
    "ret['10daySTD'] = ret['Ret0'].rolling(window=10).std()\n",
    "ret['RSI'] = talib.RSI(ret['Close'],timeperiod=14)\n",
    "ret['WILLR'] = talib.WILLR(ret['High'],ret['Low'],ret['Close'],timeperiod=14)\n",
    "ret.reset_index(inplace=True)"
   ]
  },
  {
   "cell_type": "code",
   "execution_count": 193,
   "id": "d2197e2d",
   "metadata": {},
   "outputs": [],
   "source": [
    "# Change date to datetime type and set as index\n",
    "ret['Date'] = pd.to_datetime(ret['Date'])\n",
    "ret.set_index('Date',inplace=True)"
   ]
  },
  {
   "cell_type": "code",
   "execution_count": 194,
   "id": "e0f75f91",
   "metadata": {},
   "outputs": [],
   "source": [
    "# just a fail safe for the next merge\n",
    "df_hold = df_final"
   ]
  },
  {
   "cell_type": "code",
   "execution_count": 195,
   "id": "0c58be8f",
   "metadata": {},
   "outputs": [],
   "source": [
    "# Merge the SPY data with features\n",
    "df_final = df_final.merge(ret, how='inner',left_index=True,right_index=True)"
   ]
  },
  {
   "cell_type": "code",
   "execution_count": 196,
   "id": "afc1f5f9",
   "metadata": {},
   "outputs": [],
   "source": [
    "# Rearrange column order\n",
    "df_final = df_final[[c for c in df_final if c not in ['UpDown']] + ['UpDown']]"
   ]
  },
  {
   "cell_type": "code",
   "execution_count": 197,
   "id": "0fbc4b58",
   "metadata": {},
   "outputs": [],
   "source": [
    "# Replace any infinite data to NaN\n",
    "df_final = df_final.replace([np.inf,-np.inf],np.NaN)\n",
    "df_final = df_final.applymap(lambda x: pd.to_numeric(x,errors='coerce'))\n",
    "df_final.astype(float).interpolate(method='time', axis=0,limit_direction='both',inplace=True)\n",
    "df_final.fillna(0,inplace=True)"
   ]
  },
  {
   "cell_type": "code",
   "execution_count": 203,
   "id": "736ab0ae",
   "metadata": {},
   "outputs": [],
   "source": [
    "# write data to csv\n",
    "df_final.reset_index(inplace=True)\n",
    "df_final.to_csv('final_percentile_data.csv',index=False)"
   ]
  },
  {
   "cell_type": "code",
   "execution_count": 282,
   "id": "86780533",
   "metadata": {},
   "outputs": [],
   "source": [
    "# clear memory\n",
    "del df_hold"
   ]
  },
  {
   "cell_type": "markdown",
   "id": "808032ea",
   "metadata": {},
   "source": [
    "## Build Machine Learning Models and Deep Learning Networks"
   ]
  },
  {
   "cell_type": "code",
   "execution_count": 926,
   "id": "2ee57306",
   "metadata": {},
   "outputs": [],
   "source": [
    "# Read in data and set index\n",
    "df_final = pd.read_csv('final_percentile_data.csv')\n",
    "df_final.set_index('index',inplace=True)"
   ]
  },
  {
   "cell_type": "code",
   "execution_count": 927,
   "id": "da6bbdcf",
   "metadata": {},
   "outputs": [],
   "source": [
    "# Change name for consistency throughout code\n",
    "df_mag = df_final"
   ]
  },
  {
   "cell_type": "code",
   "execution_count": null,
   "id": "4faef7ba",
   "metadata": {},
   "outputs": [],
   "source": [
    "# clear memory\n",
    "del df_final"
   ]
  },
  {
   "cell_type": "code",
   "execution_count": 928,
   "id": "4c5148b8",
   "metadata": {},
   "outputs": [],
   "source": [
    "# Transform dependent variable data\n",
    "df_mag['UpDown'] = df_mag['Ret0'].apply(lambda x: math.sin(17 * x)).shift(-1)"
   ]
  },
  {
   "cell_type": "code",
   "execution_count": 930,
   "id": "719ae6e5",
   "metadata": {},
   "outputs": [],
   "source": [
    "# Remove row with NaN value\n",
    "df_mag = df_mag.iloc[:-1]"
   ]
  },
  {
   "cell_type": "code",
   "execution_count": 663,
   "id": "219359f7",
   "metadata": {},
   "outputs": [],
   "source": [
    "# X = df_mag.iloc[:,:-1]\n",
    "# y = df_mag['UpDown']"
   ]
  },
  {
   "cell_type": "code",
   "execution_count": 931,
   "id": "c3672af9",
   "metadata": {},
   "outputs": [],
   "source": [
    "# Initialize the Bayesian Neural Network Structure and Model\n",
    "@variational_estimator\n",
    "class BayesianNN(nn.Module):\n",
    "    def __init__(self, input_dim=209, output_dim=1):\n",
    "        super().__init__()\n",
    "        \n",
    "        # input to first hidden layer\n",
    "        self.blinear = BayesianLinear(input_dim, 100)\n",
    "        \n",
    "        # Bayesian Linear hidden layer\n",
    "        self.blinear1 = BayesianLinear(100, 60)\n",
    "        \n",
    "        # Linear hidden layer\n",
    "        self.linear2 = nn.Linear(60, 30)\n",
    "        \n",
    "        # Hidden layer and output\n",
    "        self.linear3 = nn.Linear(30, output_dim)\n",
    "        \n",
    "#         self.linear = BayesianLinear(15, output_dim)\n",
    "        \n",
    "    def forward(self, x):\n",
    "        x = (self.blinear(x))\n",
    "        x = (self.blinear1(x))\n",
    "        \n",
    "        # CELU activation function on Linear layer\n",
    "        x = F.celu(self.linear2(x))\n",
    "    \n",
    "        # Tanh activation function on Linear layer\n",
    "        x = F.tanh(self.linear3(x))\n",
    "        \n",
    "        #x = F.relu(self.linear4(x))\n",
    "        #x = F.relu(self.linear5(x))\n",
    "        #x = F.relu(self.linear6(x))\n",
    "#         x = F.elu(self.blinear(x))\n",
    "        return x\n",
    "    \n",
    "    def store(self):\n",
    "        torch.save(self.state_dict(), 'best_model.txt')"
   ]
  },
  {
   "cell_type": "code",
   "execution_count": 932,
   "id": "f3063f43",
   "metadata": {},
   "outputs": [],
   "source": [
    "# Create a function to divide data into training and test sets based on the 30 observation training and 1 observation test window\n",
    "def train_validate_split(x, y, train_size=0.75):\n",
    "    # divide the data into training x,y and test x,y\n",
    "    train_x = x.iloc[:-1]\n",
    "    valid_x = x.iloc[-1]\n",
    "    train_y = y.iloc[:-1]\n",
    "    valid_y = y.iloc[-1]\n",
    "    # tensor does not like Series format so shifting to a one row Dataframe\n",
    "    hold = pd.DataFrame(columns=list(x.columns))\n",
    "    hold.loc[0,:] = valid_x\n",
    "    valid_x = hold \n",
    "    \n",
    "    # transform X data using MinMax scaler for the range -1 to 1\n",
    "    sc = MinMaxScaler(feature_range = (-1, 1))\n",
    "    train_x = sc.fit_transform(train_x)\n",
    "    valid_x = sc.fit_transform(valid_x)\n",
    "    \n",
    "    # change data type to torch.tensor\n",
    "    train_x = torch.tensor(train_x).float()\n",
    "    valid_x = torch.tensor(valid_x).float()\n",
    "    train_y = torch.tensor(train_y.to_numpy().reshape(-1,1)).float()\n",
    "    valid_y = torch.tensor(valid_y).float()\n",
    "    \n",
    "#     train_x, vali_x, train_y, vali_y = train_test_split(x, y, train_size=train_size,random_state=42)\n",
    "\n",
    "    \n",
    "#     train_x = torch.tensor(train_x).float()#.to('cuda:0')\n",
    "#     train_y = torch.tensor(train_y.values.reshape(-1,1)).float()#.to('cuda:0')\n",
    "#     valid_x = torch.tensor(vali_x).float()#.to('cuda:0')\n",
    "#     valid_y = torch.tensor(vali_y.values.reshape(-1,1)).float()#.to('cuda:0')\n",
    "    \n",
    "    # combine training data into one Tensor dataset\n",
    "    train = torch.utils.data.TensorDataset(train_x, train_y)\n",
    "    return train, valid_x, valid_y, train_x, train_y"
   ]
  },
  {
   "cell_type": "code",
   "execution_count": 936,
   "id": "b4a141f6",
   "metadata": {},
   "outputs": [],
   "source": [
    "# create a function to train the BNN Model; The default hyperparameters are optimal for our data\n",
    "def model_training(X,Y, max_epochs=20, bs=3, lr=0.001, gpu=True):\n",
    "    #if gpu:\n",
    "        #module.cuda()\n",
    "        \n",
    "    # call function to create train and test sets\n",
    "    train,valid_x,valid_y,train_x,train_y = train_validate_split(X, Y)\n",
    "    \n",
    "    # initialize the BNN model\n",
    "    net = BayesianNN()\n",
    "    \n",
    "    # set the optimizer to be Adam with a smaller e term considering our small-valued data set\n",
    "    optimizer = optim.Adam(net.parameters(), lr=lr,eps=1e-15)\n",
    "    \n",
    "    # use dataloader to extract training data into an iterable form over each batch\n",
    "    trainDL = utils.data.DataLoader(train, batch_size=bs, shuffle=True)\n",
    "    \n",
    "    # set loss function to mean squared error\n",
    "    criterion = nn.MSELoss()\n",
    "    \n",
    "    # iteration counter\n",
    "    ite = 0\n",
    "#     max_ite = round(max_epochs*64000/bs)\n",
    "#     best_ite_module = module\n",
    "\n",
    "    # hold test and train losses for each epoch\n",
    "    train_losses = []\n",
    "    test_losses = []\n",
    "    \n",
    "    # loop over each epoch to train the model\n",
    "    for epoch in range(max_epochs):\n",
    "        \n",
    "        # hold losses as a total for each epoch\n",
    "        training_loss = 0\n",
    "        test_loss = 0\n",
    "        \n",
    "        # loop over enumerated training data\n",
    "        for step, (x, y) in enumerate(trainDL):\n",
    "    \n",
    "            # set gradient to zero\n",
    "            optimizer.zero_grad()\n",
    "            \n",
    "            # do prediction over train X\n",
    "            yhat = net(x)\n",
    "            \n",
    "            # calculate mean squared error\n",
    "            loss = criterion(yhat,y)\n",
    "            \n",
    "            # take learning step\n",
    "            loss.backward()\n",
    "            optimizer.step()\n",
    "\n",
    "            ite+=1\n",
    "#             if loss.item() < 1e-8:\n",
    "#                 pred_test = net(valid_x)\n",
    "#                 loss_test = criterion(pred_test,valid_y)\n",
    "#                 print('Stopped after {} epochs'.format(epoch))\n",
    "#                 print('Val Loss:{:.4f}'.format(loss_test))\n",
    "#                 return losses, val_losses\n",
    "\n",
    "            # add batch iteration loss value\n",
    "            training_loss += float(loss)\n",
    "    \n",
    "#             if ite%100 == 0:\n",
    "#                 print(f'Iteration # {ite}')\n",
    "            # do prediction over test x\n",
    "            pred_test = net(valid_x)\n",
    "        \n",
    "            # calculate test error\n",
    "            loss_test = criterion(pred_test,valid_y)\n",
    "#                 print('#Iteration: {}, Val Loss:{:.4f}'.format(ite, loss_test))\n",
    "            # add batch iteration loss value\n",
    "            test_loss += float(loss_test)\n",
    "        \n",
    "        # append mean squared losses to lists\n",
    "        test_losses.append(np.mean(test_loss/len(trainDL)))\n",
    "        train_losses.append(np.mean(training_loss/len(trainDL)))\n",
    "    \n",
    "    # make final prediction on test data using trained model\n",
    "    final_pred = net(valid_x)\n",
    "    return final_pred,valid_y , test_losses, train_losses"
   ]
  },
  {
   "cell_type": "markdown",
   "id": "dc0f2fde",
   "metadata": {},
   "source": [
    "***Hyperparameter Optimization***"
   ]
  },
  {
   "cell_type": "code",
   "execution_count": null,
   "id": "eff59745",
   "metadata": {},
   "outputs": [],
   "source": [
    "# batch_size = [2,3,5,8,10,15]\n",
    "# epoch_range = [1,5,10,15,20,25]\n",
    "# learning_rates = [.0001,.001,.005,.01,.1]\n",
    "\n",
    "# for i in range(batch_size): # change epochs and learning rate manually unless you want to do GridSearch\n",
    "#     pred = []\n",
    "#     actuals = []\n",
    "#     for i in range(len(df_mag)-30):\n",
    "#         X = df_mag.iloc[i:i+31,:-1]\n",
    "#         Y = df_mag.iloc[i:i+31,-1]\n",
    "#         y_pred, actual = model_training(X,Y,bs=i,max_epochs = epoch_range[0],lr=learning_rates[0])\n",
    "#         pred.append(float(y_pred.detach().numpy()))\n",
    "#         actuals.append(float(actual.detach().numpy()))"
   ]
  },
  {
   "cell_type": "markdown",
   "id": "638e2c87",
   "metadata": {},
   "source": [
    "***Predict Over Entire Dataset***"
   ]
  },
  {
   "cell_type": "code",
   "execution_count": 934,
   "id": "493e5bb0",
   "metadata": {},
   "outputs": [],
   "source": [
    "# loop over the training/test window for each datapoint to get final predictions for evaluation\n",
    "pred = []\n",
    "actuals = []\n",
    "for i in range(len(df_mag)-30):\n",
    "    X = df_mag.iloc[i:i+31,:-1]\n",
    "    Y = df_mag.iloc[i:i+31,-1]\n",
    "    y_pred, actual = model_training(X,Y)\n",
    "    pred.append(float(y_pred.detach().numpy()))\n",
    "    actuals.append(float(actual.detach().numpy()))"
   ]
  },
  {
   "cell_type": "code",
   "execution_count": 935,
   "id": "f52f89ca",
   "metadata": {},
   "outputs": [
    {
     "data": {
      "text/html": [
       "<div>\n",
       "<style scoped>\n",
       "    .dataframe tbody tr th:only-of-type {\n",
       "        vertical-align: middle;\n",
       "    }\n",
       "\n",
       "    .dataframe tbody tr th {\n",
       "        vertical-align: top;\n",
       "    }\n",
       "\n",
       "    .dataframe thead th {\n",
       "        text-align: right;\n",
       "    }\n",
       "</style>\n",
       "<table border=\"1\" class=\"dataframe\">\n",
       "  <thead>\n",
       "    <tr style=\"text-align: right;\">\n",
       "      <th></th>\n",
       "      <th>pred</th>\n",
       "      <th>actuals</th>\n",
       "    </tr>\n",
       "  </thead>\n",
       "  <tbody>\n",
       "    <tr>\n",
       "      <th>0</th>\n",
       "      <td>-0.052932</td>\n",
       "      <td>0.000000</td>\n",
       "    </tr>\n",
       "    <tr>\n",
       "      <th>1</th>\n",
       "      <td>0.131391</td>\n",
       "      <td>-0.105322</td>\n",
       "    </tr>\n",
       "    <tr>\n",
       "      <th>2</th>\n",
       "      <td>-0.312665</td>\n",
       "      <td>0.105977</td>\n",
       "    </tr>\n",
       "    <tr>\n",
       "      <th>3</th>\n",
       "      <td>0.233812</td>\n",
       "      <td>-0.105322</td>\n",
       "    </tr>\n",
       "    <tr>\n",
       "      <th>4</th>\n",
       "      <td>0.147471</td>\n",
       "      <td>-0.094239</td>\n",
       "    </tr>\n",
       "    <tr>\n",
       "      <th>...</th>\n",
       "      <td>...</td>\n",
       "      <td>...</td>\n",
       "    </tr>\n",
       "    <tr>\n",
       "      <th>6994</th>\n",
       "      <td>0.337794</td>\n",
       "      <td>-0.060746</td>\n",
       "    </tr>\n",
       "    <tr>\n",
       "      <th>6995</th>\n",
       "      <td>0.455308</td>\n",
       "      <td>-0.028648</td>\n",
       "    </tr>\n",
       "    <tr>\n",
       "      <th>6996</th>\n",
       "      <td>0.482264</td>\n",
       "      <td>0.015276</td>\n",
       "    </tr>\n",
       "    <tr>\n",
       "      <th>6997</th>\n",
       "      <td>0.507145</td>\n",
       "      <td>0.066089</td>\n",
       "    </tr>\n",
       "    <tr>\n",
       "      <th>6998</th>\n",
       "      <td>0.291764</td>\n",
       "      <td>0.145525</td>\n",
       "    </tr>\n",
       "  </tbody>\n",
       "</table>\n",
       "<p>6999 rows × 2 columns</p>\n",
       "</div>"
      ],
      "text/plain": [
       "          pred   actuals\n",
       "0    -0.052932  0.000000\n",
       "1     0.131391 -0.105322\n",
       "2    -0.312665  0.105977\n",
       "3     0.233812 -0.105322\n",
       "4     0.147471 -0.094239\n",
       "...        ...       ...\n",
       "6994  0.337794 -0.060746\n",
       "6995  0.455308 -0.028648\n",
       "6996  0.482264  0.015276\n",
       "6997  0.507145  0.066089\n",
       "6998  0.291764  0.145525\n",
       "\n",
       "[6999 rows x 2 columns]"
      ]
     },
     "execution_count": 935,
     "metadata": {},
     "output_type": "execute_result"
    }
   ],
   "source": [
    "s = pd.DataFrame(pred,columns=['pred'])\n",
    "s['actuals'] = actuals"
   ]
  },
  {
   "cell_type": "code",
   "execution_count": 965,
   "id": "f39e6fda",
   "metadata": {},
   "outputs": [],
   "source": [
    "f = df_mag['Ret0'].iloc[30:].shift(1).reset_index()"
   ]
  },
  {
   "cell_type": "code",
   "execution_count": 967,
   "id": "1cdd4281",
   "metadata": {},
   "outputs": [],
   "source": [
    "s['date'] = f['index']\n",
    "s['return'] = f['Ret0']"
   ]
  },
  {
   "cell_type": "code",
   "execution_count": 969,
   "id": "fb30b54f",
   "metadata": {},
   "outputs": [],
   "source": [
    "s.set_index('date',inplace=True)"
   ]
  },
  {
   "cell_type": "code",
   "execution_count": 973,
   "id": "fbdc6cc1",
   "metadata": {},
   "outputs": [],
   "source": [
    "s['binary'] = s['pred'].apply(lambda x: 1 if x >= .02 else 0)"
   ]
  },
  {
   "cell_type": "code",
   "execution_count": 975,
   "id": "d425a178",
   "metadata": {},
   "outputs": [],
   "source": [
    "s['actual_return'] = s['return'] * s['binary']"
   ]
  },
  {
   "cell_type": "code",
   "execution_count": 977,
   "id": "9e671123",
   "metadata": {},
   "outputs": [],
   "source": [
    "s = s.iloc[1:]"
   ]
  },
  {
   "cell_type": "code",
   "execution_count": 980,
   "id": "5468de01",
   "metadata": {},
   "outputs": [
    {
     "name": "stdout",
     "output_type": "stream",
     "text": [
      "sharpe for the strategy 0.5211074417234448\n",
      "Sharpe for the market 0.49355288324247065\n"
     ]
    }
   ],
   "source": [
    "print('sharpe for the strategy', (s['actual_return'].mean()/s['actual_return'].std()) * (252 ** (1/2)))\n",
    "print('Sharpe for the market', (s['return'].mean()/s['return'].std()) * (252 ** (1/2)))"
   ]
  },
  {
   "cell_type": "code",
   "execution_count": 981,
   "id": "082ef2a4",
   "metadata": {},
   "outputs": [
    {
     "name": "stdout",
     "output_type": "stream",
     "text": [
      "returns for $100 in the market:  815.1240633663825\n",
      "returns for $100 in the portfolio:  711.5183606428614\n"
     ]
    }
   ],
   "source": [
    "market = []\n",
    "x = 100\n",
    "for i in list(s['return'] + 1):\n",
    "    x = x * i\n",
    "    market.append(x)\n",
    "print('returns for $100 in the market: ', x )\n",
    "\n",
    "portfolio = []\n",
    "x = 100\n",
    "for i in list(s['actual_return'] + 1):\n",
    "    x = x * i\n",
    "    portfolio.append(x)\n",
    "print('returns for $100 in the portfolio: ', x )"
   ]
  },
  {
   "cell_type": "code",
   "execution_count": 982,
   "id": "14b18c5e",
   "metadata": {},
   "outputs": [],
   "source": [
    "s['strategy'] = portfolio\n",
    "s['market'] = market"
   ]
  },
  {
   "cell_type": "code",
   "execution_count": 983,
   "id": "24e25c72",
   "metadata": {},
   "outputs": [
    {
     "data": {
      "image/png": "[encoded data removed]",
      "text/plain": [
       "<Figure size 432x288 with 1 Axes>"
      ]
     },
     "metadata": {
      "needs_background": "light"
     },
     "output_type": "display_data"
    }
   ],
   "source": [
    "# create a graph that plots epochs vs. MSE\n",
    "df = pd.DataFrame({'Market Return': s['market'],'Active Strategy': s['strategy']})\n",
    "sns.lineplot(data=df);"
   ]
  }
 ],
 "metadata": {
  "kernelspec": {
   "display_name": "Python 3",
   "language": "python",
   "name": "python3"
  },
  "language_info": {
   "codemirror_mode": {
    "name": "ipython",
    "version": 3
   },
   "file_extension": ".py",
   "mimetype": "text/x-python",
   "name": "python",
   "nbconvert_exporter": "python",
   "pygments_lexer": "ipython3",
   "version": "3.8.12"
  }
 },
 "nbformat": 4,
 "nbformat_minor": 5
}
