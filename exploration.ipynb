{
 "cells": [
  {
   "cell_type": "markdown",
   "source": [
    "# Essentially Scratch Paper\n",
    "\n",
    "#### This is a jupyter notebook that is not really used in the analysis\n",
    "\n",
    "#### We are including this to show the thought process behind alot of our start we ran the Logistic regressions and SVM and everything here although it is messy and going to be hard to read. I though it would give nice insight to the beginnings of the project\n"
   ],
   "metadata": {
    "collapsed": false
   }
  },
  {
   "cell_type": "code",
   "execution_count": 58,
   "metadata": {
    "pycharm": {
     "name": "#%%\n"
    }
   },
   "outputs": [],
   "source": [
    "import pandas as pd\n",
    "\n",
    "from sklearn.model_selection import train_test_split\n",
    "from sklearn.linear_model import LogisticRegression\n",
    "from sklearn import metrics\n",
    "\n",
    "import math\n",
    "\n",
    "from sklearn.preprocessing import normalize\n",
    "from sklearn.preprocessing import KBinsDiscretizer\n",
    "\n"
   ]
  },
  {
   "cell_type": "code",
   "execution_count": 59,
   "metadata": {
    "pycharm": {
     "name": "#%%\n"
    }
   },
   "outputs": [],
   "source": [
    "df = pd.read_csv('newdata.csv')\n",
    "df.columns\n",
    "df = df[df['SPYRET'] != 'C']\n",
    "df = df.fillna(0)\n",
    "df['UP_DWN'] = df['UP_DWN'].map(lambda x: bool(x))\n",
    "\n",
    "df['shrout'] = df['shrout'].pct_change()\n",
    "df[['dailyreturns', 'dailyreturns_1', 'dailyreturns_2', 'dailyreturns_3', 'dailyreturns_4']] = df[['dailyreturns',\n",
    "                                                                                                   'dailyreturns_1',\n",
    "                                                                                                   'dailyreturns_2',\n",
    "                                                                                                   'dailyreturns_3',\n",
    "                                                                                                   'dailyreturns_4']] * 100\n",
    "df['divfac'] = df['divfac'] * 1000\n",
    "df['SDT_RET'] = df['SDT_RET'] * 10\n",
    "df['squaredreturns'] = df['squaredreturns'].map(lambda x: math.sqrt(math.sqrt(x)))\n",
    "df['squaredreturns'] = pd.to_numeric(df['squaredreturns'])\n",
    "df['shrout'] = df['shrout'] * 10\n",
    "df['shrout'] = df['shrout'].fillna(0)"
   ]
  },
  {
   "cell_type": "code",
   "execution_count": 60,
   "metadata": {
    "pycharm": {
     "name": "#%%\n"
    }
   },
   "outputs": [],
   "source": [
    "df = df[['date_x', 'dailyreturns', 'chngcap', 'divfac', 'spread',\n",
    "    'shrout', 'SDT_RET', 'Mkt-RF', 'SMB', 'HML', 'RMW', 'CMA', 'RF',\n",
    "    'SPYRET', 'dailyreturns_1', 'dailyreturns_2',\n",
    "    'dailyreturns_3', 'dailyreturns_4', 'pastreturns', 'squaredreturns',\n",
    "    'TDRATE',\n",
    "    'Bank Total Assets', 'Bank Deposits', 'UP_DWN', 'TMW_SPYRET']]"
   ]
  },
  {
   "cell_type": "code",
   "execution_count": 60,
   "metadata": {
    "pycharm": {
     "name": "#%%\n"
    }
   },
   "outputs": [],
   "source": []
  },
  {
   "cell_type": "code",
   "execution_count": 61,
   "metadata": {
    "pycharm": {
     "name": "#%%\n"
    }
   },
   "outputs": [],
   "source": [
    "df['date_x'] = pd.to_datetime(df['date_x'])"
   ]
  },
  {
   "cell_type": "code",
   "execution_count": 62,
   "metadata": {
    "pycharm": {
     "name": "#%%\n"
    }
   },
   "outputs": [],
   "source": [
    "df2 = df[df['date_x'] >= '2015-01-01']"
   ]
  },
  {
   "cell_type": "code",
   "execution_count": 76,
   "metadata": {
    "pycharm": {
     "name": "#%%\n"
    }
   },
   "outputs": [],
   "source": [
    "features_cols = ['dailyreturns', 'chngcap', 'divfac', 'spread',\n",
    "                 'shrout', 'SDT_RET', 'Mkt-RF', 'SMB', 'HML', 'RMW', 'CMA', 'RF',\n",
    "                 'SPYRET', 'dailyreturns_1', 'dailyreturns_2',\n",
    "                 'dailyreturns_3', 'dailyreturns_4', 'pastreturns', 'squaredreturns',\n",
    "                 'TDRATE',\n",
    "                 'Bank Total Assets', 'Bank Deposits']\n",
    "X = df[features_cols]\n",
    "y = df.UP_DWN"
   ]
  },
  {
   "cell_type": "code",
   "execution_count": 64,
   "metadata": {
    "pycharm": {
     "name": "#%%\n"
    }
   },
   "outputs": [
    {
     "data": {
      "text/html": [
       "<div>\n",
       "<style scoped>\n",
       "    .dataframe tbody tr th:only-of-type {\n",
       "        vertical-align: middle;\n",
       "    }\n",
       "\n",
       "    .dataframe tbody tr th {\n",
       "        vertical-align: top;\n",
       "    }\n",
       "\n",
       "    .dataframe thead th {\n",
       "        text-align: right;\n",
       "    }\n",
       "</style>\n",
       "<table border=\"1\" class=\"dataframe\">\n",
       "  <thead>\n",
       "    <tr style=\"text-align: right;\">\n",
       "      <th></th>\n",
       "      <th>dailyreturns</th>\n",
       "      <th>chngcap</th>\n",
       "      <th>divfac</th>\n",
       "      <th>spread</th>\n",
       "      <th>shrout</th>\n",
       "      <th>SDT_RET</th>\n",
       "      <th>Mkt-RF</th>\n",
       "      <th>SMB</th>\n",
       "      <th>HML</th>\n",
       "      <th>RMW</th>\n",
       "      <th>...</th>\n",
       "      <th>SPYRET</th>\n",
       "      <th>dailyreturns_1</th>\n",
       "      <th>dailyreturns_2</th>\n",
       "      <th>dailyreturns_3</th>\n",
       "      <th>dailyreturns_4</th>\n",
       "      <th>pastreturns</th>\n",
       "      <th>squaredreturns</th>\n",
       "      <th>TDRATE</th>\n",
       "      <th>Bank Total Assets</th>\n",
       "      <th>Bank Deposits</th>\n",
       "    </tr>\n",
       "  </thead>\n",
       "  <tbody>\n",
       "    <tr>\n",
       "      <th>0</th>\n",
       "      <td>-0.301905</td>\n",
       "      <td>-0.004191</td>\n",
       "      <td>0.36981</td>\n",
       "      <td>0.658750</td>\n",
       "      <td>0.000000</td>\n",
       "      <td>0.097168</td>\n",
       "      <td>-0.31</td>\n",
       "      <td>0.01</td>\n",
       "      <td>0.13</td>\n",
       "      <td>-0.35</td>\n",
       "      <td>...</td>\n",
       "      <td>-0.017964</td>\n",
       "      <td>0.000000</td>\n",
       "      <td>0.000000</td>\n",
       "      <td>0.000000</td>\n",
       "      <td>0.000000</td>\n",
       "      <td>0.000000</td>\n",
       "      <td>0.054946</td>\n",
       "      <td>70.75</td>\n",
       "      <td>0.205243</td>\n",
       "      <td>0.194443</td>\n",
       "    </tr>\n",
       "    <tr>\n",
       "      <th>1</th>\n",
       "      <td>0.477837</td>\n",
       "      <td>0.006434</td>\n",
       "      <td>0.00000</td>\n",
       "      <td>0.823750</td>\n",
       "      <td>0.013633</td>\n",
       "      <td>0.128429</td>\n",
       "      <td>0.38</td>\n",
       "      <td>-0.46</td>\n",
       "      <td>0.05</td>\n",
       "      <td>-0.06</td>\n",
       "      <td>...</td>\n",
       "      <td>0.006098</td>\n",
       "      <td>-0.301905</td>\n",
       "      <td>0.000000</td>\n",
       "      <td>0.000000</td>\n",
       "      <td>0.000000</td>\n",
       "      <td>0.000000</td>\n",
       "      <td>0.069126</td>\n",
       "      <td>70.96</td>\n",
       "      <td>0.205243</td>\n",
       "      <td>0.194443</td>\n",
       "    </tr>\n",
       "    <tr>\n",
       "      <th>2</th>\n",
       "      <td>0.200276</td>\n",
       "      <td>0.000511</td>\n",
       "      <td>0.00000</td>\n",
       "      <td>0.725000</td>\n",
       "      <td>0.012841</td>\n",
       "      <td>0.108095</td>\n",
       "      <td>0.22</td>\n",
       "      <td>0.19</td>\n",
       "      <td>0.08</td>\n",
       "      <td>0.10</td>\n",
       "      <td>...</td>\n",
       "      <td>0.024242</td>\n",
       "      <td>0.477837</td>\n",
       "      <td>-0.301905</td>\n",
       "      <td>0.000000</td>\n",
       "      <td>0.000000</td>\n",
       "      <td>0.000000</td>\n",
       "      <td>0.044752</td>\n",
       "      <td>53.32</td>\n",
       "      <td>0.205243</td>\n",
       "      <td>0.194443</td>\n",
       "    </tr>\n",
       "    <tr>\n",
       "      <th>3</th>\n",
       "      <td>0.196820</td>\n",
       "      <td>0.002154</td>\n",
       "      <td>0.06043</td>\n",
       "      <td>0.665000</td>\n",
       "      <td>0.000000</td>\n",
       "      <td>0.093782</td>\n",
       "      <td>0.23</td>\n",
       "      <td>0.16</td>\n",
       "      <td>-0.07</td>\n",
       "      <td>0.09</td>\n",
       "      <td>...</td>\n",
       "      <td>0.047337</td>\n",
       "      <td>0.200276</td>\n",
       "      <td>0.477837</td>\n",
       "      <td>-0.301905</td>\n",
       "      <td>-0.301905</td>\n",
       "      <td>0.000542</td>\n",
       "      <td>0.044364</td>\n",
       "      <td>70.62</td>\n",
       "      <td>0.205243</td>\n",
       "      <td>0.194443</td>\n",
       "    </tr>\n",
       "    <tr>\n",
       "      <th>4</th>\n",
       "      <td>1.151027</td>\n",
       "      <td>0.012345</td>\n",
       "      <td>0.00000</td>\n",
       "      <td>0.778750</td>\n",
       "      <td>-0.026421</td>\n",
       "      <td>0.113471</td>\n",
       "      <td>0.92</td>\n",
       "      <td>-0.37</td>\n",
       "      <td>-0.19</td>\n",
       "      <td>0.29</td>\n",
       "      <td>...</td>\n",
       "      <td>0.107345</td>\n",
       "      <td>0.196820</td>\n",
       "      <td>0.200276</td>\n",
       "      <td>0.477837</td>\n",
       "      <td>0.477837</td>\n",
       "      <td>0.005008</td>\n",
       "      <td>0.107286</td>\n",
       "      <td>0.00</td>\n",
       "      <td>0.205243</td>\n",
       "      <td>0.194443</td>\n",
       "    </tr>\n",
       "    <tr>\n",
       "      <th>...</th>\n",
       "      <td>...</td>\n",
       "      <td>...</td>\n",
       "      <td>...</td>\n",
       "      <td>...</td>\n",
       "      <td>...</td>\n",
       "      <td>...</td>\n",
       "      <td>...</td>\n",
       "      <td>...</td>\n",
       "      <td>...</td>\n",
       "      <td>...</td>\n",
       "      <td>...</td>\n",
       "      <td>...</td>\n",
       "      <td>...</td>\n",
       "      <td>...</td>\n",
       "      <td>...</td>\n",
       "      <td>...</td>\n",
       "      <td>...</td>\n",
       "      <td>...</td>\n",
       "      <td>...</td>\n",
       "      <td>...</td>\n",
       "      <td>...</td>\n",
       "    </tr>\n",
       "    <tr>\n",
       "      <th>9237</th>\n",
       "      <td>0.084344</td>\n",
       "      <td>-0.001125</td>\n",
       "      <td>0.00000</td>\n",
       "      <td>27.699945</td>\n",
       "      <td>0.000026</td>\n",
       "      <td>0.153242</td>\n",
       "      <td>0.10</td>\n",
       "      <td>0.83</td>\n",
       "      <td>2.03</td>\n",
       "      <td>0.29</td>\n",
       "      <td>...</td>\n",
       "      <td>0.000899</td>\n",
       "      <td>-0.322163</td>\n",
       "      <td>-0.419879</td>\n",
       "      <td>-0.053225</td>\n",
       "      <td>-0.053225</td>\n",
       "      <td>-0.001528</td>\n",
       "      <td>0.029042</td>\n",
       "      <td>0.09</td>\n",
       "      <td>0.000000</td>\n",
       "      <td>0.000000</td>\n",
       "    </tr>\n",
       "    <tr>\n",
       "      <th>9238</th>\n",
       "      <td>0.196901</td>\n",
       "      <td>0.002334</td>\n",
       "      <td>0.10427</td>\n",
       "      <td>44.291331</td>\n",
       "      <td>0.000083</td>\n",
       "      <td>0.161858</td>\n",
       "      <td>0.21</td>\n",
       "      <td>-0.43</td>\n",
       "      <td>-0.18</td>\n",
       "      <td>0.23</td>\n",
       "      <td>...</td>\n",
       "      <td>0.003890</td>\n",
       "      <td>0.084344</td>\n",
       "      <td>-0.322163</td>\n",
       "      <td>-0.419879</td>\n",
       "      <td>-0.419879</td>\n",
       "      <td>-0.001761</td>\n",
       "      <td>0.044374</td>\n",
       "      <td>0.09</td>\n",
       "      <td>0.000000</td>\n",
       "      <td>0.000000</td>\n",
       "    </tr>\n",
       "    <tr>\n",
       "      <th>9239</th>\n",
       "      <td>0.441875</td>\n",
       "      <td>0.011177</td>\n",
       "      <td>0.00000</td>\n",
       "      <td>45.152603</td>\n",
       "      <td>0.078998</td>\n",
       "      <td>0.126154</td>\n",
       "      <td>0.46</td>\n",
       "      <td>-0.67</td>\n",
       "      <td>0.34</td>\n",
       "      <td>1.39</td>\n",
       "      <td>...</td>\n",
       "      <td>0.008591</td>\n",
       "      <td>0.196901</td>\n",
       "      <td>0.084344</td>\n",
       "      <td>-0.322163</td>\n",
       "      <td>-0.322163</td>\n",
       "      <td>0.000158</td>\n",
       "      <td>0.066474</td>\n",
       "      <td>0.09</td>\n",
       "      <td>0.000000</td>\n",
       "      <td>0.000000</td>\n",
       "    </tr>\n",
       "    <tr>\n",
       "      <th>9240</th>\n",
       "      <td>0.107830</td>\n",
       "      <td>-0.000152</td>\n",
       "      <td>0.00000</td>\n",
       "      <td>33.126933</td>\n",
       "      <td>0.031321</td>\n",
       "      <td>0.112803</td>\n",
       "      <td>-0.40</td>\n",
       "      <td>-1.42</td>\n",
       "      <td>0.23</td>\n",
       "      <td>0.75</td>\n",
       "      <td>...</td>\n",
       "      <td>-0.001908</td>\n",
       "      <td>0.441875</td>\n",
       "      <td>0.196901</td>\n",
       "      <td>0.084344</td>\n",
       "      <td>0.084344</td>\n",
       "      <td>0.001831</td>\n",
       "      <td>0.032837</td>\n",
       "      <td>0.09</td>\n",
       "      <td>0.000000</td>\n",
       "      <td>0.000000</td>\n",
       "    </tr>\n",
       "    <tr>\n",
       "      <th>9241</th>\n",
       "      <td>0.241267</td>\n",
       "      <td>-0.000449</td>\n",
       "      <td>0.02616</td>\n",
       "      <td>27.637401</td>\n",
       "      <td>-0.059213</td>\n",
       "      <td>0.107345</td>\n",
       "      <td>0.27</td>\n",
       "      <td>1.05</td>\n",
       "      <td>0.06</td>\n",
       "      <td>-0.65</td>\n",
       "      <td>...</td>\n",
       "      <td>0.001427</td>\n",
       "      <td>0.107830</td>\n",
       "      <td>0.441875</td>\n",
       "      <td>0.196901</td>\n",
       "      <td>0.196901</td>\n",
       "      <td>0.002370</td>\n",
       "      <td>0.049119</td>\n",
       "      <td>0.09</td>\n",
       "      <td>0.000000</td>\n",
       "      <td>0.000000</td>\n",
       "    </tr>\n",
       "  </tbody>\n",
       "</table>\n",
       "<p>9241 rows × 22 columns</p>\n",
       "</div>"
      ],
      "text/plain": [
       "      dailyreturns   chngcap   divfac     spread    shrout   SDT_RET  Mkt-RF  \\\n",
       "0        -0.301905 -0.004191  0.36981   0.658750  0.000000  0.097168   -0.31   \n",
       "1         0.477837  0.006434  0.00000   0.823750  0.013633  0.128429    0.38   \n",
       "2         0.200276  0.000511  0.00000   0.725000  0.012841  0.108095    0.22   \n",
       "3         0.196820  0.002154  0.06043   0.665000  0.000000  0.093782    0.23   \n",
       "4         1.151027  0.012345  0.00000   0.778750 -0.026421  0.113471    0.92   \n",
       "...            ...       ...      ...        ...       ...       ...     ...   \n",
       "9237      0.084344 -0.001125  0.00000  27.699945  0.000026  0.153242    0.10   \n",
       "9238      0.196901  0.002334  0.10427  44.291331  0.000083  0.161858    0.21   \n",
       "9239      0.441875  0.011177  0.00000  45.152603  0.078998  0.126154    0.46   \n",
       "9240      0.107830 -0.000152  0.00000  33.126933  0.031321  0.112803   -0.40   \n",
       "9241      0.241267 -0.000449  0.02616  27.637401 -0.059213  0.107345    0.27   \n",
       "\n",
       "       SMB   HML   RMW  ...     SPYRET  dailyreturns_1 dailyreturns_2  \\\n",
       "0     0.01  0.13 -0.35  ...  -0.017964        0.000000       0.000000   \n",
       "1    -0.46  0.05 -0.06  ...   0.006098       -0.301905       0.000000   \n",
       "2     0.19  0.08  0.10  ...   0.024242        0.477837      -0.301905   \n",
       "3     0.16 -0.07  0.09  ...   0.047337        0.200276       0.477837   \n",
       "4    -0.37 -0.19  0.29  ...   0.107345        0.196820       0.200276   \n",
       "...    ...   ...   ...  ...        ...             ...            ...   \n",
       "9237  0.83  2.03  0.29  ...   0.000899       -0.322163      -0.419879   \n",
       "9238 -0.43 -0.18  0.23  ...   0.003890        0.084344      -0.322163   \n",
       "9239 -0.67  0.34  1.39  ...   0.008591        0.196901       0.084344   \n",
       "9240 -1.42  0.23  0.75  ...  -0.001908        0.441875       0.196901   \n",
       "9241  1.05  0.06 -0.65  ...   0.001427        0.107830       0.441875   \n",
       "\n",
       "      dailyreturns_3  dailyreturns_4  pastreturns  squaredreturns  TDRATE  \\\n",
       "0           0.000000        0.000000     0.000000        0.054946   70.75   \n",
       "1           0.000000        0.000000     0.000000        0.069126   70.96   \n",
       "2           0.000000        0.000000     0.000000        0.044752   53.32   \n",
       "3          -0.301905       -0.301905     0.000542        0.044364   70.62   \n",
       "4           0.477837        0.477837     0.005008        0.107286    0.00   \n",
       "...              ...             ...          ...             ...     ...   \n",
       "9237       -0.053225       -0.053225    -0.001528        0.029042    0.09   \n",
       "9238       -0.419879       -0.419879    -0.001761        0.044374    0.09   \n",
       "9239       -0.322163       -0.322163     0.000158        0.066474    0.09   \n",
       "9240        0.084344        0.084344     0.001831        0.032837    0.09   \n",
       "9241        0.196901        0.196901     0.002370        0.049119    0.09   \n",
       "\n",
       "      Bank Total Assets  Bank Deposits  \n",
       "0              0.205243       0.194443  \n",
       "1              0.205243       0.194443  \n",
       "2              0.205243       0.194443  \n",
       "3              0.205243       0.194443  \n",
       "4              0.205243       0.194443  \n",
       "...                 ...            ...  \n",
       "9237           0.000000       0.000000  \n",
       "9238           0.000000       0.000000  \n",
       "9239           0.000000       0.000000  \n",
       "9240           0.000000       0.000000  \n",
       "9241           0.000000       0.000000  \n",
       "\n",
       "[9241 rows x 22 columns]"
      ]
     },
     "execution_count": 64,
     "metadata": {},
     "output_type": "execute_result"
    }
   ],
   "source": [
    "X"
   ]
  },
  {
   "cell_type": "code",
   "execution_count": 65,
   "metadata": {
    "pycharm": {
     "name": "#%%\n"
    }
   },
   "outputs": [],
   "source": [
    "import numpy as np\n",
    "from sklearn import svm\n",
    "from sklearn import metrics\n",
    "from sklearn.decomposition import PCA\n",
    "import statsmodels.api as sm"
   ]
  },
  {
   "cell_type": "code",
   "execution_count": 72,
   "metadata": {
    "pycharm": {
     "name": "#%%\n"
    }
   },
   "outputs": [
    {
     "name": "stderr",
     "output_type": "stream",
     "text": [
      "/Users/garrettsooter/opt/anaconda3/lib/python3.8/site-packages/sklearn/preprocessing/_discretization.py:220: UserWarning: Bins whose width are too small (i.e., <= 1e-8) in feature 2 are removed. Consider decreasing the number of bins.\n",
      "  warnings.warn('Bins whose width are too small (i.e., <= '\n",
      "/Users/garrettsooter/opt/anaconda3/lib/python3.8/site-packages/sklearn/preprocessing/_discretization.py:220: UserWarning: Bins whose width are too small (i.e., <= 1e-8) in feature 4 are removed. Consider decreasing the number of bins.\n",
      "  warnings.warn('Bins whose width are too small (i.e., <= '\n",
      "/Users/garrettsooter/opt/anaconda3/lib/python3.8/site-packages/sklearn/preprocessing/_discretization.py:220: UserWarning: Bins whose width are too small (i.e., <= 1e-8) in feature 11 are removed. Consider decreasing the number of bins.\n",
      "  warnings.warn('Bins whose width are too small (i.e., <= '\n",
      "/Users/garrettsooter/opt/anaconda3/lib/python3.8/site-packages/sklearn/utils/validation.py:63: DataConversionWarning: A column-vector y was passed when a 1d array was expected. Please change the shape of y to (n_samples, ), for example using ravel().\n",
      "  return f(*args, **kwargs)\n"
     ]
    },
    {
     "data": {
      "text/plain": [
       "0.5427914991384262"
      ]
     },
     "execution_count": 72,
     "metadata": {},
     "output_type": "execute_result"
    }
   ],
   "source": [
    "X = df[features_cols]\n",
    "y = df.UP_DWN\n",
    "\n",
    "est = KBinsDiscretizer(n_bins=[8]*22, encode='ordinal').fit(X)\n",
    "X = est.transform(X)\n",
    "\n",
    "X_train = pd.DataFrame(X).head(7500)\n",
    "X_test = pd.DataFrame(X).tail(-7500)\n",
    "y_train = pd.DataFrame(y).head(7500)\n",
    "y_test = pd.DataFrame(y).tail(-7500)\n",
    "\n",
    "clf = svm.SVC()\n",
    "clf.fit(X_train, y_train)\n",
    "y_pred = clf.predict(X_test)\n",
    "(metrics.accuracy_score(y_test, y_pred))\n"
   ]
  },
  {
   "cell_type": "code",
   "execution_count": 73,
   "metadata": {
    "pycharm": {
     "name": "#%%\n"
    }
   },
   "outputs": [
    {
     "data": {
      "text/plain": [
       "array([[151, 621],\n",
       "       [175, 794]])"
      ]
     },
     "execution_count": 73,
     "metadata": {},
     "output_type": "execute_result"
    }
   ],
   "source": [
    "cnf_matrix = metrics.confusion_matrix(y_test, y_pred)\n",
    "cnf_matrix"
   ]
  },
  {
   "cell_type": "code",
   "execution_count": 74,
   "metadata": {
    "pycharm": {
     "name": "#%%\n"
    }
   },
   "outputs": [
    {
     "data": {
      "text/plain": [
       "array([ True,  True,  True, ...,  True,  True,  True])"
      ]
     },
     "execution_count": 74,
     "metadata": {},
     "output_type": "execute_result"
    }
   ],
   "source": [
    "y_pred"
   ]
  },
  {
   "cell_type": "code",
   "execution_count": 79,
   "metadata": {
    "pycharm": {
     "name": "#%%\n"
    }
   },
   "outputs": [],
   "source": [
    "X = pd.DataFrame(X).tail(-7500)"
   ]
  },
  {
   "cell_type": "code",
   "execution_count": 80,
   "metadata": {
    "pycharm": {
     "name": "#%%\n"
    }
   },
   "outputs": [],
   "source": [
    "X['Prediction'] = y_pred"
   ]
  },
  {
   "cell_type": "code",
   "execution_count": 83,
   "metadata": {
    "pycharm": {
     "name": "#%%\n"
    }
   },
   "outputs": [],
   "source": [
    "X['Prediction'] = X['Prediction'] * 1"
   ]
  },
  {
   "cell_type": "code",
   "execution_count": 91,
   "metadata": {
    "pycharm": {
     "name": "#%%\n"
    }
   },
   "outputs": [],
   "source": [
    "X['SPYRET'] = X['SPYRET'].map(lambda x: float(x))"
   ]
  },
  {
   "cell_type": "code",
   "execution_count": 92,
   "metadata": {
    "pycharm": {
     "name": "#%%\n"
    }
   },
   "outputs": [],
   "source": [
    "X['returns'] = X['Prediction'] * X['SPYRET']"
   ]
  },
  {
   "cell_type": "code",
   "execution_count": 93,
   "metadata": {
    "pycharm": {
     "name": "#%%\n"
    }
   },
   "outputs": [
    {
     "data": {
      "text/plain": [
       "7501    1\n",
       "7502    1\n",
       "7503    1\n",
       "7504    1\n",
       "7505    0\n",
       "       ..\n",
       "9237    1\n",
       "9238    0\n",
       "9239    1\n",
       "9240    1\n",
       "9241    1\n",
       "Name: Prediction, Length: 1741, dtype: int64"
      ]
     },
     "execution_count": 93,
     "metadata": {},
     "output_type": "execute_result"
    }
   ],
   "source": [
    "X['Prediction']"
   ]
  },
  {
   "cell_type": "code",
   "execution_count": 96,
   "metadata": {
    "pycharm": {
     "name": "#%%\n"
    }
   },
   "outputs": [
    {
     "data": {
      "text/plain": [
       "0.04050045225287682"
      ]
     },
     "execution_count": 96,
     "metadata": {},
     "output_type": "execute_result"
    }
   ],
   "source": [
    "X['returns'].mean()/X['returns'].std()"
   ]
  },
  {
   "cell_type": "code",
   "execution_count": 100,
   "metadata": {
    "pycharm": {
     "name": "#%%\n"
    }
   },
   "outputs": [
    {
     "data": {
      "text/plain": [
       "<AxesSubplot:>"
      ]
     },
     "execution_count": 100,
     "metadata": {},
     "output_type": "execute_result"
    },
    {
     "data": {
      "image/png": "[encoded data removed]",
      "text/plain": [
       "<Figure size 432x288 with 1 Axes>"
      ]
     },
     "metadata": {
      "needs_background": "light"
     },
     "output_type": "display_data"
    }
   ],
   "source": [
    "(X['returns'] + 1).cumprod().plot()"
   ]
  },
  {
   "cell_type": "code",
   "execution_count": 98,
   "metadata": {
    "pycharm": {
     "name": "#%%\n"
    }
   },
   "outputs": [
    {
     "data": {
      "text/plain": [
       "6.908730158730159"
      ]
     },
     "execution_count": 98,
     "metadata": {},
     "output_type": "execute_result"
    }
   ],
   "source": [
    "1741/252"
   ]
  },
  {
   "cell_type": "code",
   "execution_count": 32,
   "metadata": {
    "pycharm": {
     "name": "#%%\n"
    }
   },
   "outputs": [],
   "source": [
    "X_train,X_test,y_train,y_test=train_test_split(X_normalized,y,test_size=0.25,random_state=0)"
   ]
  },
  {
   "cell_type": "code",
   "execution_count": 31,
   "metadata": {
    "pycharm": {
     "name": "#%%\n"
    }
   },
   "outputs": [],
   "source": [
    "X_normalized = normalize(X, norm='l2')"
   ]
  },
  {
   "cell_type": "code",
   "execution_count": 42,
   "metadata": {
    "pycharm": {
     "name": "#%%\n"
    }
   },
   "outputs": [],
   "source": [
    "X_train,X_test,y_train,y_test=train_test_split(X,y,test_size=0.25,random_state=0)"
   ]
  },
  {
   "cell_type": "code",
   "execution_count": 0,
   "metadata": {
    "pycharm": {
     "name": "#%%\n"
    }
   },
   "outputs": [],
   "source": [
    "cnf_matrix = metrics.confusion_matrix(y_test, y_pred)\n",
    "cnf_matrix"
   ]
  },
  {
   "cell_type": "code",
   "execution_count": 38,
   "metadata": {
    "pycharm": {
     "name": "#%%\n"
    }
   },
   "outputs": [
    {
     "name": "stderr",
     "output_type": "stream",
     "text": [
      "/Users/garrettsooter/opt/anaconda3/lib/python3.8/site-packages/sklearn/utils/validation.py:63: DataConversionWarning: A column-vector y was passed when a 1d array was expected. Please change the shape of y to (n_samples, ), for example using ravel().\n",
      "  return f(*args, **kwargs)\n"
     ]
    }
   ],
   "source": [
    "X_train,X_test,y_train,y_test=train_test_split(X,y,test_size=0.25,random_state=0)\n",
    "logreg = LogisticRegression(max_iter= 2000)\n",
    "logreg.fit(X_train,y_train)\n",
    "y_pred=logreg.predict(X_test)"
   ]
  },
  {
   "cell_type": "code",
   "execution_count": 43,
   "metadata": {
    "pycharm": {
     "name": "#%%\n"
    }
   },
   "outputs": [],
   "source": [
    "pd.DataFrame(X).to_csv('x.csv', index = False)\n",
    "pd.DataFrame(y).to_csv('y.csv', index = False)"
   ]
  },
  {
   "cell_type": "code",
   "execution_count": 44,
   "metadata": {
    "pycharm": {
     "name": "#%%\n"
    }
   },
   "outputs": [
    {
     "data": {
      "text/html": [
       "<div>\n",
       "<style scoped>\n",
       "    .dataframe tbody tr th:only-of-type {\n",
       "        vertical-align: middle;\n",
       "    }\n",
       "\n",
       "    .dataframe tbody tr th {\n",
       "        vertical-align: top;\n",
       "    }\n",
       "\n",
       "    .dataframe thead th {\n",
       "        text-align: right;\n",
       "    }\n",
       "</style>\n",
       "<table border=\"1\" class=\"dataframe\">\n",
       "  <thead>\n",
       "    <tr style=\"text-align: right;\">\n",
       "      <th></th>\n",
       "      <th>UP_DWN</th>\n",
       "    </tr>\n",
       "  </thead>\n",
       "  <tbody>\n",
       "    <tr>\n",
       "      <th>0</th>\n",
       "      <td>True</td>\n",
       "    </tr>\n",
       "    <tr>\n",
       "      <th>1</th>\n",
       "      <td>True</td>\n",
       "    </tr>\n",
       "    <tr>\n",
       "      <th>2</th>\n",
       "      <td>True</td>\n",
       "    </tr>\n",
       "    <tr>\n",
       "      <th>3</th>\n",
       "      <td>True</td>\n",
       "    </tr>\n",
       "    <tr>\n",
       "      <th>4</th>\n",
       "      <td>True</td>\n",
       "    </tr>\n",
       "    <tr>\n",
       "      <th>...</th>\n",
       "      <td>...</td>\n",
       "    </tr>\n",
       "    <tr>\n",
       "      <th>9237</th>\n",
       "      <td>True</td>\n",
       "    </tr>\n",
       "    <tr>\n",
       "      <th>9238</th>\n",
       "      <td>True</td>\n",
       "    </tr>\n",
       "    <tr>\n",
       "      <th>9239</th>\n",
       "      <td>False</td>\n",
       "    </tr>\n",
       "    <tr>\n",
       "      <th>9240</th>\n",
       "      <td>True</td>\n",
       "    </tr>\n",
       "    <tr>\n",
       "      <th>9241</th>\n",
       "      <td>True</td>\n",
       "    </tr>\n",
       "  </tbody>\n",
       "</table>\n",
       "<p>9241 rows × 1 columns</p>\n",
       "</div>"
      ],
      "text/plain": [
       "      UP_DWN\n",
       "0       True\n",
       "1       True\n",
       "2       True\n",
       "3       True\n",
       "4       True\n",
       "...      ...\n",
       "9237    True\n",
       "9238    True\n",
       "9239   False\n",
       "9240    True\n",
       "9241    True\n",
       "\n",
       "[9241 rows x 1 columns]"
      ]
     },
     "execution_count": 44,
     "metadata": {},
     "output_type": "execute_result"
    }
   ],
   "source": [
    "pd.DataFrame(y)"
   ]
  },
  {
   "cell_type": "code",
   "execution_count": 24,
   "metadata": {
    "pycharm": {
     "name": "#%%\n"
    }
   },
   "outputs": [
    {
     "data": {
      "text/plain": [
       "array([[2., 2., 5., ..., 8., 9., 9.],\n",
       "       [6., 7., 0., ..., 8., 9., 9.],\n",
       "       [5., 4., 0., ..., 7., 9., 9.],\n",
       "       ...,\n",
       "       [6., 8., 0., ..., 0., 2., 2.],\n",
       "       [5., 4., 0., ..., 0., 2., 2.],\n",
       "       [5., 4., 0., ..., 0., 2., 2.]])"
      ]
     },
     "execution_count": 24,
     "metadata": {},
     "output_type": "execute_result"
    }
   ],
   "source": [
    "X"
   ]
  },
  {
   "cell_type": "code",
   "execution_count": null,
   "metadata": {
    "pycharm": {
     "name": "#%%\n"
    }
   },
   "outputs": [],
   "source": [
    "pd.DataFrame(X).to_csv('Xfull', index = False)\n",
    "pd.DataFrame(y).to_csv('yfull', index = False)"
   ]
  },
  {
   "cell_type": "code",
   "execution_count": null,
   "metadata": {
    "pycharm": {
     "name": "#%%\n"
    }
   },
   "outputs": [],
   "source": [
    "import tensorflow as tf\n",
    "from tensorflow import keras"
   ]
  },
  {
   "cell_type": "code",
   "execution_count": null,
   "metadata": {
    "pycharm": {
     "name": "#%%\n"
    }
   },
   "outputs": [],
   "source": [
    "from tensorflow.python.keras import Sequential\n",
    "from tensorflow.python.keras.layers import Dense\n",
    "# from tensorflow.keras.models import Sequential\n",
    "# from tensorflow.keras.layers import Dense"
   ]
  },
  {
   "cell_type": "code",
   "execution_count": null,
   "metadata": {
    "pycharm": {
     "name": "#%%\n"
    }
   },
   "outputs": [],
   "source": [
    "clf = Sequential()\n",
    "clf.add(Dense(units = 128, kernel_initializer = 'uniform', activation = 'relu', input_dim = X.shape[1]))\n",
    "clf.add(Dense(units = 128, kernel_initializer = 'uniform', activation = 'relu'))\n",
    "clf.add(Dense(units = 1, kernel_initializer = 'uniform', activation = 'sigmoid'))\n",
    "clf.compile(optimizer = 'adam', loss = 'mean_squared_error', metrics = ['accuracy'])\n",
    "clf.fit(X_train, y_train, batch_size = 10, epochs = 500)"
   ]
  },
  {
   "cell_type": "code",
   "execution_count": null,
   "metadata": {
    "pycharm": {
     "name": "#%%\n"
    }
   },
   "outputs": [],
   "source": [
    "pca = PCA(n_components=22)\n",
    "pca.fit(X)\n",
    "pca.explained_variance_ratio_"
   ]
  },
  {
   "cell_type": "code",
   "execution_count": null,
   "metadata": {
    "pycharm": {
     "name": "#%%\n"
    }
   },
   "outputs": [],
   "source": [
    "import statsmodels.api as sm\n",
    "x = df[['dailyreturns', 'chngcap', 'divfac', 'spread',\n",
    "        'shrout', 'SDT_RET', 'Mkt-RF', 'SMB', 'HML', 'RMW', 'CMA', 'RF',\n",
    "         'dailyreturns_1', 'dailyreturns_2',\n",
    "        'dailyreturns_3', 'dailyreturns_4', 'pastreturns', 'squaredreturns',\n",
    "        'TDRATE',\n",
    "        'Bank Total Assets', 'Bank Deposits']]\n",
    "y = df['TMW_SPYRET']\n",
    "\n",
    "x = sm.add_constant(x)\n",
    "\n",
    "model = sm.OLS(y, x)\n",
    "results = model.fit()\n",
    "\n",
    "results.t_test([1, 0])"
   ]
  },
  {
   "cell_type": "code",
   "execution_count": null,
   "metadata": {
    "pycharm": {
     "name": "#%%\n"
    }
   },
   "outputs": [],
   "source": [
    "from pyod.models.copod import COPOD\n",
    "clf = COPOD()\n",
    "clf.fit(X_train)\n",
    "\n",
    "# get outlier scores\n",
    "y_train_scores = clf.decision_scores_  # raw outlier scores on the train data\n",
    "y_test_scores = clf.decision_function(X_test)  # predict raw outlier scores on test"
   ]
  },
  {
   "cell_type": "code",
   "execution_count": null,
   "metadata": {
    "pycharm": {
     "name": "#%%\n"
    }
   },
   "outputs": [],
   "source": [
    "y_test_scores"
   ]
  },
  {
   "cell_type": "code",
   "execution_count": 7,
   "metadata": {
    "pycharm": {
     "name": "#%%\n"
    }
   },
   "outputs": [],
   "source": [
    "X = pd.read_csv('x.csv')\n",
    "y = pd.read_csv('y.csv')"
   ]
  },
  {
   "cell_type": "code",
   "execution_count": null,
   "outputs": [],
   "source": [],
   "metadata": {
    "collapsed": false,
    "pycharm": {
     "name": "#%%\n"
    }
   }
  }
 ],
 "metadata": {
  "kernelspec": {
   "display_name": "Python 3 (ipykernel)",
   "language": "python",
   "name": "python3"
  },
  "language_info": {
   "codemirror_mode": {
    "name": "ipython",
    "version": 3
   },
   "file_extension": ".py",
   "mimetype": "text/x-python",
   "name": "python",
   "nbconvert_exporter": "python",
   "pygments_lexer": "ipython3",
   "version": "3.9.7"
  }
 },
 "nbformat": 4,
 "nbformat_minor": 1
}